{
 "cells": [
  {
   "cell_type": "markdown",
   "metadata": {},
   "source": [
    "# Bike Sharing Assignment\n",
    "\n",
    "Problem Statement\n",
    "\n",
    "A bike-sharing system is a service in which bikes are made available for shared use to individuals on a short term basis for a price or free. Many bike share systems allow people to borrow a bike from a \"dock\" which is usually computer-controlled wherein the user enters the payment information, and the system unlocks it. This bike can then be returned to another dock belonging to the same system.\n",
    "\n",
    "\n",
    "A US bike-sharing provider The company wants to know:\n",
    "\n",
    "Which variables are significant in predicting the demand for shared bikes.\n",
    "How well those variables describe the bike demands\n",
    "Based on various meteorological surveys and people's styles, the service provider firm has gathered a large dataset on daily bike demands across the American market based on some factors. BoomBikes has recently suffered considerable dips in their revenues due to the ongoing Corona pandemic. The company is finding it very difficult to sustain in the current market scenario. So, it has decided to come up with a mindful business plan to be able to accelerate its revenue as soon as the ongoing lockdown comes to an end, and the economy restores to a healthy state. \n",
    "\n",
    "The company wants to know:\n",
    "\n",
    "1. Which variables are significant in predicting the demand for shared bikes.\n",
    "2. How well those variables describe the bike demands\n",
    "\n",
    "Based on various meteorological surveys and people's styles, the service provider firm has gathered a large dataset on daily bike demands across the American market based on some factors. \n",
    "\n"
   ]
  },
  {
   "cell_type": "markdown",
   "metadata": {},
   "source": [
    "\n",
    "This solution is divided into \n",
    "\n",
    "1. Data Understanding and Exploration\n",
    "2. Data Cleaning\n",
    "3. Data preparation\n",
    "4. Model building and evaluation"
   ]
  },
  {
   "cell_type": "markdown",
   "metadata": {},
   "source": [
    "## Step 1 : Reading and Understanding the data"
   ]
  },
  {
   "cell_type": "code",
   "execution_count": 1,
   "metadata": {},
   "outputs": [],
   "source": [
    "import numpy as np\n",
    "import pandas as pd\n",
    "import matplotlib.pyplot as plt\n",
    "import seaborn as sns\n",
    "\n",
    "import warnings\n",
    "warnings.filterwarnings('ignore')"
   ]
  },
  {
   "cell_type": "code",
   "execution_count": 2,
   "metadata": {},
   "outputs": [],
   "source": [
    "# Importing the dataset\n",
    "\n",
    "df = pd.read_csv('day.csv')"
   ]
  },
  {
   "cell_type": "code",
   "execution_count": 3,
   "metadata": {},
   "outputs": [
    {
     "data": {
      "text/html": [
       "<div>\n",
       "<style scoped>\n",
       "    .dataframe tbody tr th:only-of-type {\n",
       "        vertical-align: middle;\n",
       "    }\n",
       "\n",
       "    .dataframe tbody tr th {\n",
       "        vertical-align: top;\n",
       "    }\n",
       "\n",
       "    .dataframe thead th {\n",
       "        text-align: right;\n",
       "    }\n",
       "</style>\n",
       "<table border=\"1\" class=\"dataframe\">\n",
       "  <thead>\n",
       "    <tr style=\"text-align: right;\">\n",
       "      <th></th>\n",
       "      <th>instant</th>\n",
       "      <th>dteday</th>\n",
       "      <th>season</th>\n",
       "      <th>yr</th>\n",
       "      <th>mnth</th>\n",
       "      <th>holiday</th>\n",
       "      <th>weekday</th>\n",
       "      <th>workingday</th>\n",
       "      <th>weathersit</th>\n",
       "      <th>temp</th>\n",
       "      <th>atemp</th>\n",
       "      <th>hum</th>\n",
       "      <th>windspeed</th>\n",
       "      <th>casual</th>\n",
       "      <th>registered</th>\n",
       "      <th>cnt</th>\n",
       "    </tr>\n",
       "  </thead>\n",
       "  <tbody>\n",
       "    <tr>\n",
       "      <th>0</th>\n",
       "      <td>1</td>\n",
       "      <td>01-01-2018</td>\n",
       "      <td>1</td>\n",
       "      <td>0</td>\n",
       "      <td>1</td>\n",
       "      <td>0</td>\n",
       "      <td>6</td>\n",
       "      <td>0</td>\n",
       "      <td>2</td>\n",
       "      <td>14.110847</td>\n",
       "      <td>18.18125</td>\n",
       "      <td>80.5833</td>\n",
       "      <td>10.749882</td>\n",
       "      <td>331</td>\n",
       "      <td>654</td>\n",
       "      <td>985</td>\n",
       "    </tr>\n",
       "    <tr>\n",
       "      <th>1</th>\n",
       "      <td>2</td>\n",
       "      <td>02-01-2018</td>\n",
       "      <td>1</td>\n",
       "      <td>0</td>\n",
       "      <td>1</td>\n",
       "      <td>0</td>\n",
       "      <td>0</td>\n",
       "      <td>0</td>\n",
       "      <td>2</td>\n",
       "      <td>14.902598</td>\n",
       "      <td>17.68695</td>\n",
       "      <td>69.6087</td>\n",
       "      <td>16.652113</td>\n",
       "      <td>131</td>\n",
       "      <td>670</td>\n",
       "      <td>801</td>\n",
       "    </tr>\n",
       "    <tr>\n",
       "      <th>2</th>\n",
       "      <td>3</td>\n",
       "      <td>03-01-2018</td>\n",
       "      <td>1</td>\n",
       "      <td>0</td>\n",
       "      <td>1</td>\n",
       "      <td>0</td>\n",
       "      <td>1</td>\n",
       "      <td>1</td>\n",
       "      <td>1</td>\n",
       "      <td>8.050924</td>\n",
       "      <td>9.47025</td>\n",
       "      <td>43.7273</td>\n",
       "      <td>16.636703</td>\n",
       "      <td>120</td>\n",
       "      <td>1229</td>\n",
       "      <td>1349</td>\n",
       "    </tr>\n",
       "    <tr>\n",
       "      <th>3</th>\n",
       "      <td>4</td>\n",
       "      <td>04-01-2018</td>\n",
       "      <td>1</td>\n",
       "      <td>0</td>\n",
       "      <td>1</td>\n",
       "      <td>0</td>\n",
       "      <td>2</td>\n",
       "      <td>1</td>\n",
       "      <td>1</td>\n",
       "      <td>8.200000</td>\n",
       "      <td>10.60610</td>\n",
       "      <td>59.0435</td>\n",
       "      <td>10.739832</td>\n",
       "      <td>108</td>\n",
       "      <td>1454</td>\n",
       "      <td>1562</td>\n",
       "    </tr>\n",
       "    <tr>\n",
       "      <th>4</th>\n",
       "      <td>5</td>\n",
       "      <td>05-01-2018</td>\n",
       "      <td>1</td>\n",
       "      <td>0</td>\n",
       "      <td>1</td>\n",
       "      <td>0</td>\n",
       "      <td>3</td>\n",
       "      <td>1</td>\n",
       "      <td>1</td>\n",
       "      <td>9.305237</td>\n",
       "      <td>11.46350</td>\n",
       "      <td>43.6957</td>\n",
       "      <td>12.522300</td>\n",
       "      <td>82</td>\n",
       "      <td>1518</td>\n",
       "      <td>1600</td>\n",
       "    </tr>\n",
       "  </tbody>\n",
       "</table>\n",
       "</div>"
      ],
      "text/plain": [
       "   instant      dteday  season  yr  mnth  holiday  weekday  workingday  \\\n",
       "0        1  01-01-2018       1   0     1        0        6           0   \n",
       "1        2  02-01-2018       1   0     1        0        0           0   \n",
       "2        3  03-01-2018       1   0     1        0        1           1   \n",
       "3        4  04-01-2018       1   0     1        0        2           1   \n",
       "4        5  05-01-2018       1   0     1        0        3           1   \n",
       "\n",
       "   weathersit       temp     atemp      hum  windspeed  casual  registered  \\\n",
       "0           2  14.110847  18.18125  80.5833  10.749882     331         654   \n",
       "1           2  14.902598  17.68695  69.6087  16.652113     131         670   \n",
       "2           1   8.050924   9.47025  43.7273  16.636703     120        1229   \n",
       "3           1   8.200000  10.60610  59.0435  10.739832     108        1454   \n",
       "4           1   9.305237  11.46350  43.6957  12.522300      82        1518   \n",
       "\n",
       "    cnt  \n",
       "0   985  \n",
       "1   801  \n",
       "2  1349  \n",
       "3  1562  \n",
       "4  1600  "
      ]
     },
     "execution_count": 3,
     "metadata": {},
     "output_type": "execute_result"
    }
   ],
   "source": [
    "# Checking the head of the dataset \n",
    "\n",
    "df.head()"
   ]
  },
  {
   "cell_type": "markdown",
   "metadata": {},
   "source": [
    "###### Inspect various aspects of the dataframe"
   ]
  },
  {
   "cell_type": "code",
   "execution_count": 4,
   "metadata": {},
   "outputs": [
    {
     "name": "stdout",
     "output_type": "stream",
     "text": [
      "<class 'pandas.core.frame.DataFrame'>\n",
      "RangeIndex: 730 entries, 0 to 729\n",
      "Data columns (total 16 columns):\n",
      " #   Column      Non-Null Count  Dtype  \n",
      "---  ------      --------------  -----  \n",
      " 0   instant     730 non-null    int64  \n",
      " 1   dteday      730 non-null    object \n",
      " 2   season      730 non-null    int64  \n",
      " 3   yr          730 non-null    int64  \n",
      " 4   mnth        730 non-null    int64  \n",
      " 5   holiday     730 non-null    int64  \n",
      " 6   weekday     730 non-null    int64  \n",
      " 7   workingday  730 non-null    int64  \n",
      " 8   weathersit  730 non-null    int64  \n",
      " 9   temp        730 non-null    float64\n",
      " 10  atemp       730 non-null    float64\n",
      " 11  hum         730 non-null    float64\n",
      " 12  windspeed   730 non-null    float64\n",
      " 13  casual      730 non-null    int64  \n",
      " 14  registered  730 non-null    int64  \n",
      " 15  cnt         730 non-null    int64  \n",
      "dtypes: float64(4), int64(11), object(1)\n",
      "memory usage: 91.4+ KB\n"
     ]
    }
   ],
   "source": [
    "df.info()"
   ]
  },
  {
   "cell_type": "code",
   "execution_count": 5,
   "metadata": {},
   "outputs": [
    {
     "data": {
      "text/html": [
       "<div>\n",
       "<style scoped>\n",
       "    .dataframe tbody tr th:only-of-type {\n",
       "        vertical-align: middle;\n",
       "    }\n",
       "\n",
       "    .dataframe tbody tr th {\n",
       "        vertical-align: top;\n",
       "    }\n",
       "\n",
       "    .dataframe thead th {\n",
       "        text-align: right;\n",
       "    }\n",
       "</style>\n",
       "<table border=\"1\" class=\"dataframe\">\n",
       "  <thead>\n",
       "    <tr style=\"text-align: right;\">\n",
       "      <th></th>\n",
       "      <th>instant</th>\n",
       "      <th>season</th>\n",
       "      <th>yr</th>\n",
       "      <th>mnth</th>\n",
       "      <th>holiday</th>\n",
       "      <th>weekday</th>\n",
       "      <th>workingday</th>\n",
       "      <th>weathersit</th>\n",
       "      <th>temp</th>\n",
       "      <th>atemp</th>\n",
       "      <th>hum</th>\n",
       "      <th>windspeed</th>\n",
       "      <th>casual</th>\n",
       "      <th>registered</th>\n",
       "      <th>cnt</th>\n",
       "    </tr>\n",
       "  </thead>\n",
       "  <tbody>\n",
       "    <tr>\n",
       "      <th>count</th>\n",
       "      <td>730.000000</td>\n",
       "      <td>730.000000</td>\n",
       "      <td>730.000000</td>\n",
       "      <td>730.000000</td>\n",
       "      <td>730.000000</td>\n",
       "      <td>730.000000</td>\n",
       "      <td>730.000000</td>\n",
       "      <td>730.000000</td>\n",
       "      <td>730.000000</td>\n",
       "      <td>730.000000</td>\n",
       "      <td>730.000000</td>\n",
       "      <td>730.000000</td>\n",
       "      <td>730.000000</td>\n",
       "      <td>730.000000</td>\n",
       "      <td>730.000000</td>\n",
       "    </tr>\n",
       "    <tr>\n",
       "      <th>mean</th>\n",
       "      <td>365.500000</td>\n",
       "      <td>2.498630</td>\n",
       "      <td>0.500000</td>\n",
       "      <td>6.526027</td>\n",
       "      <td>0.028767</td>\n",
       "      <td>2.997260</td>\n",
       "      <td>0.683562</td>\n",
       "      <td>1.394521</td>\n",
       "      <td>20.319259</td>\n",
       "      <td>23.726322</td>\n",
       "      <td>62.765175</td>\n",
       "      <td>12.763620</td>\n",
       "      <td>849.249315</td>\n",
       "      <td>3658.757534</td>\n",
       "      <td>4508.006849</td>\n",
       "    </tr>\n",
       "    <tr>\n",
       "      <th>std</th>\n",
       "      <td>210.877136</td>\n",
       "      <td>1.110184</td>\n",
       "      <td>0.500343</td>\n",
       "      <td>3.450215</td>\n",
       "      <td>0.167266</td>\n",
       "      <td>2.006161</td>\n",
       "      <td>0.465405</td>\n",
       "      <td>0.544807</td>\n",
       "      <td>7.506729</td>\n",
       "      <td>8.150308</td>\n",
       "      <td>14.237589</td>\n",
       "      <td>5.195841</td>\n",
       "      <td>686.479875</td>\n",
       "      <td>1559.758728</td>\n",
       "      <td>1936.011647</td>\n",
       "    </tr>\n",
       "    <tr>\n",
       "      <th>min</th>\n",
       "      <td>1.000000</td>\n",
       "      <td>1.000000</td>\n",
       "      <td>0.000000</td>\n",
       "      <td>1.000000</td>\n",
       "      <td>0.000000</td>\n",
       "      <td>0.000000</td>\n",
       "      <td>0.000000</td>\n",
       "      <td>1.000000</td>\n",
       "      <td>2.424346</td>\n",
       "      <td>3.953480</td>\n",
       "      <td>0.000000</td>\n",
       "      <td>1.500244</td>\n",
       "      <td>2.000000</td>\n",
       "      <td>20.000000</td>\n",
       "      <td>22.000000</td>\n",
       "    </tr>\n",
       "    <tr>\n",
       "      <th>25%</th>\n",
       "      <td>183.250000</td>\n",
       "      <td>2.000000</td>\n",
       "      <td>0.000000</td>\n",
       "      <td>4.000000</td>\n",
       "      <td>0.000000</td>\n",
       "      <td>1.000000</td>\n",
       "      <td>0.000000</td>\n",
       "      <td>1.000000</td>\n",
       "      <td>13.811885</td>\n",
       "      <td>16.889713</td>\n",
       "      <td>52.000000</td>\n",
       "      <td>9.041650</td>\n",
       "      <td>316.250000</td>\n",
       "      <td>2502.250000</td>\n",
       "      <td>3169.750000</td>\n",
       "    </tr>\n",
       "    <tr>\n",
       "      <th>50%</th>\n",
       "      <td>365.500000</td>\n",
       "      <td>3.000000</td>\n",
       "      <td>0.500000</td>\n",
       "      <td>7.000000</td>\n",
       "      <td>0.000000</td>\n",
       "      <td>3.000000</td>\n",
       "      <td>1.000000</td>\n",
       "      <td>1.000000</td>\n",
       "      <td>20.465826</td>\n",
       "      <td>24.368225</td>\n",
       "      <td>62.625000</td>\n",
       "      <td>12.125325</td>\n",
       "      <td>717.000000</td>\n",
       "      <td>3664.500000</td>\n",
       "      <td>4548.500000</td>\n",
       "    </tr>\n",
       "    <tr>\n",
       "      <th>75%</th>\n",
       "      <td>547.750000</td>\n",
       "      <td>3.000000</td>\n",
       "      <td>1.000000</td>\n",
       "      <td>10.000000</td>\n",
       "      <td>0.000000</td>\n",
       "      <td>5.000000</td>\n",
       "      <td>1.000000</td>\n",
       "      <td>2.000000</td>\n",
       "      <td>26.880615</td>\n",
       "      <td>30.445775</td>\n",
       "      <td>72.989575</td>\n",
       "      <td>15.625589</td>\n",
       "      <td>1096.500000</td>\n",
       "      <td>4783.250000</td>\n",
       "      <td>5966.000000</td>\n",
       "    </tr>\n",
       "    <tr>\n",
       "      <th>max</th>\n",
       "      <td>730.000000</td>\n",
       "      <td>4.000000</td>\n",
       "      <td>1.000000</td>\n",
       "      <td>12.000000</td>\n",
       "      <td>1.000000</td>\n",
       "      <td>6.000000</td>\n",
       "      <td>1.000000</td>\n",
       "      <td>3.000000</td>\n",
       "      <td>35.328347</td>\n",
       "      <td>42.044800</td>\n",
       "      <td>97.250000</td>\n",
       "      <td>34.000021</td>\n",
       "      <td>3410.000000</td>\n",
       "      <td>6946.000000</td>\n",
       "      <td>8714.000000</td>\n",
       "    </tr>\n",
       "  </tbody>\n",
       "</table>\n",
       "</div>"
      ],
      "text/plain": [
       "          instant      season          yr        mnth     holiday     weekday  \\\n",
       "count  730.000000  730.000000  730.000000  730.000000  730.000000  730.000000   \n",
       "mean   365.500000    2.498630    0.500000    6.526027    0.028767    2.997260   \n",
       "std    210.877136    1.110184    0.500343    3.450215    0.167266    2.006161   \n",
       "min      1.000000    1.000000    0.000000    1.000000    0.000000    0.000000   \n",
       "25%    183.250000    2.000000    0.000000    4.000000    0.000000    1.000000   \n",
       "50%    365.500000    3.000000    0.500000    7.000000    0.000000    3.000000   \n",
       "75%    547.750000    3.000000    1.000000   10.000000    0.000000    5.000000   \n",
       "max    730.000000    4.000000    1.000000   12.000000    1.000000    6.000000   \n",
       "\n",
       "       workingday  weathersit        temp       atemp         hum   windspeed  \\\n",
       "count  730.000000  730.000000  730.000000  730.000000  730.000000  730.000000   \n",
       "mean     0.683562    1.394521   20.319259   23.726322   62.765175   12.763620   \n",
       "std      0.465405    0.544807    7.506729    8.150308   14.237589    5.195841   \n",
       "min      0.000000    1.000000    2.424346    3.953480    0.000000    1.500244   \n",
       "25%      0.000000    1.000000   13.811885   16.889713   52.000000    9.041650   \n",
       "50%      1.000000    1.000000   20.465826   24.368225   62.625000   12.125325   \n",
       "75%      1.000000    2.000000   26.880615   30.445775   72.989575   15.625589   \n",
       "max      1.000000    3.000000   35.328347   42.044800   97.250000   34.000021   \n",
       "\n",
       "            casual   registered          cnt  \n",
       "count   730.000000   730.000000   730.000000  \n",
       "mean    849.249315  3658.757534  4508.006849  \n",
       "std     686.479875  1559.758728  1936.011647  \n",
       "min       2.000000    20.000000    22.000000  \n",
       "25%     316.250000  2502.250000  3169.750000  \n",
       "50%     717.000000  3664.500000  4548.500000  \n",
       "75%    1096.500000  4783.250000  5966.000000  \n",
       "max    3410.000000  6946.000000  8714.000000  "
      ]
     },
     "execution_count": 5,
     "metadata": {},
     "output_type": "execute_result"
    }
   ],
   "source": [
    "df.describe()"
   ]
  },
  {
   "cell_type": "code",
   "execution_count": 6,
   "metadata": {},
   "outputs": [
    {
     "data": {
      "text/plain": [
       "(730, 16)"
      ]
     },
     "execution_count": 6,
     "metadata": {},
     "output_type": "execute_result"
    }
   ],
   "source": [
    "df.shape"
   ]
  },
  {
   "cell_type": "markdown",
   "metadata": {},
   "source": [
    "## Step 2 : Data Cleaning Check"
   ]
  },
  {
   "cell_type": "code",
   "execution_count": 7,
   "metadata": {},
   "outputs": [
    {
     "name": "stdout",
     "output_type": "stream",
     "text": [
      "<class 'pandas.core.frame.DataFrame'>\n",
      "RangeIndex: 730 entries, 0 to 729\n",
      "Data columns (total 16 columns):\n",
      " #   Column      Non-Null Count  Dtype  \n",
      "---  ------      --------------  -----  \n",
      " 0   instant     730 non-null    int64  \n",
      " 1   dteday      730 non-null    object \n",
      " 2   season      730 non-null    int64  \n",
      " 3   yr          730 non-null    int64  \n",
      " 4   mnth        730 non-null    int64  \n",
      " 5   holiday     730 non-null    int64  \n",
      " 6   weekday     730 non-null    int64  \n",
      " 7   workingday  730 non-null    int64  \n",
      " 8   weathersit  730 non-null    int64  \n",
      " 9   temp        730 non-null    float64\n",
      " 10  atemp       730 non-null    float64\n",
      " 11  hum         730 non-null    float64\n",
      " 12  windspeed   730 non-null    float64\n",
      " 13  casual      730 non-null    int64  \n",
      " 14  registered  730 non-null    int64  \n",
      " 15  cnt         730 non-null    int64  \n",
      "dtypes: float64(4), int64(11), object(1)\n",
      "memory usage: 91.4+ KB\n"
     ]
    }
   ],
   "source": [
    "df.info()"
   ]
  },
  {
   "cell_type": "code",
   "execution_count": 8,
   "metadata": {},
   "outputs": [
    {
     "data": {
      "text/plain": [
       "instant       0\n",
       "dteday        0\n",
       "season        0\n",
       "yr            0\n",
       "mnth          0\n",
       "holiday       0\n",
       "weekday       0\n",
       "workingday    0\n",
       "weathersit    0\n",
       "temp          0\n",
       "atemp         0\n",
       "hum           0\n",
       "windspeed     0\n",
       "casual        0\n",
       "registered    0\n",
       "cnt           0\n",
       "dtype: int64"
      ]
     },
     "execution_count": 8,
     "metadata": {},
     "output_type": "execute_result"
    }
   ],
   "source": [
    "#Checking for null values\n",
    "\n",
    "df.isnull().sum()"
   ]
  },
  {
   "cell_type": "markdown",
   "metadata": {},
   "source": [
    "##### There are no null values in the dataset"
   ]
  },
  {
   "cell_type": "markdown",
   "metadata": {},
   "source": [
    "## Understand the dataset\n",
    "\n",
    "### Correlation check"
   ]
  },
  {
   "cell_type": "code",
   "execution_count": 9,
   "metadata": {},
   "outputs": [
    {
     "data": {
      "text/plain": [
       "<AxesSubplot:>"
      ]
     },
     "execution_count": 9,
     "metadata": {},
     "output_type": "execute_result"
    },
    {
     "data": {
      "image/png": "[encoded data removed]",
      "text/plain": [
       "<Figure size 1152x720 with 2 Axes>"
      ]
     },
     "metadata": {
      "needs_background": "light"
     },
     "output_type": "display_data"
    }
   ],
   "source": [
    "# Lets see the correlation\n",
    "plt.figure(figsize = (16, 10))\n",
    "sns.heatmap(df.corr(), annot = True)"
   ]
  },
  {
   "cell_type": "markdown",
   "metadata": {},
   "source": [
    "#### Observation\n",
    "\n",
    "The heat maps clearly shows that all the variables are multicollinear in nature and also shows which variables has highest correlation with target variable."
   ]
  },
  {
   "cell_type": "markdown",
   "metadata": {},
   "source": [
    "## Data Visualization of numeric variables"
   ]
  },
  {
   "cell_type": "code",
   "execution_count": 10,
   "metadata": {},
   "outputs": [
    {
     "data": {
      "image/png": "[encoded data removed]",
      "text/plain": [
       "<Figure size 900x900 with 30 Axes>"
      ]
     },
     "metadata": {
      "needs_background": "light"
     },
     "output_type": "display_data"
    }
   ],
   "source": [
    "#Let's check thisusing pairplot\n",
    "\n",
    "df_numeric=df[[ 'temp', 'atemp', 'hum', 'windspeed','cnt']]\n",
    "\n",
    "sns.pairplot(df_numeric, diag_kind='kde')\n",
    "plt.show()"
   ]
  },
  {
   "cell_type": "markdown",
   "metadata": {},
   "source": [
    "##### From the above visualization we can clearly notice that there is a linear relationship between 'temp', 'atemp' and 'cnt'. Both the variables 'temp' and 'atemp' are closely related. So we can consider only one variable between them."
   ]
  },
  {
   "cell_type": "markdown",
   "metadata": {},
   "source": [
    "### Data Preparation "
   ]
  },
  {
   "cell_type": "code",
   "execution_count": 11,
   "metadata": {},
   "outputs": [],
   "source": [
    "# Here the target variable is cnt. \n",
    "# Deleting the unwanted columns\n",
    "\n",
    "\n",
    "df = df.drop(['instant','dteday','casual','registered','atemp'], axis=1)\n"
   ]
  },
  {
   "cell_type": "code",
   "execution_count": 12,
   "metadata": {},
   "outputs": [
    {
     "name": "stdout",
     "output_type": "stream",
     "text": [
      "<class 'pandas.core.frame.DataFrame'>\n",
      "RangeIndex: 730 entries, 0 to 729\n",
      "Data columns (total 11 columns):\n",
      " #   Column      Non-Null Count  Dtype  \n",
      "---  ------      --------------  -----  \n",
      " 0   season      730 non-null    int64  \n",
      " 1   yr          730 non-null    int64  \n",
      " 2   mnth        730 non-null    int64  \n",
      " 3   holiday     730 non-null    int64  \n",
      " 4   weekday     730 non-null    int64  \n",
      " 5   workingday  730 non-null    int64  \n",
      " 6   weathersit  730 non-null    int64  \n",
      " 7   temp        730 non-null    float64\n",
      " 8   hum         730 non-null    float64\n",
      " 9   windspeed   730 non-null    float64\n",
      " 10  cnt         730 non-null    int64  \n",
      "dtypes: float64(3), int64(8)\n",
      "memory usage: 62.9 KB\n"
     ]
    }
   ],
   "source": [
    "df.info()"
   ]
  },
  {
   "cell_type": "code",
   "execution_count": 13,
   "metadata": {},
   "outputs": [
    {
     "data": {
      "text/plain": [
       "3    188\n",
       "2    184\n",
       "1    180\n",
       "4    178\n",
       "Name: season, dtype: int64"
      ]
     },
     "execution_count": 13,
     "metadata": {},
     "output_type": "execute_result"
    }
   ],
   "source": [
    "# Let's check season \n",
    "\n",
    "df.season.value_counts()"
   ]
  },
  {
   "cell_type": "code",
   "execution_count": 14,
   "metadata": {},
   "outputs": [
    {
     "data": {
      "text/plain": [
       "Fall      188\n",
       "Summer    184\n",
       "Spring    180\n",
       "Winter    178\n",
       "Name: season, dtype: int64"
      ]
     },
     "execution_count": 14,
     "metadata": {},
     "output_type": "execute_result"
    }
   ],
   "source": [
    "# Mapping season\n",
    "\n",
    "df.season = df.season.map({1:'Spring',2:'Summer',3:'Fall',4:'Winter'})\n",
    "df.season.value_counts()"
   ]
  },
  {
   "cell_type": "code",
   "execution_count": 15,
   "metadata": {},
   "outputs": [
    {
     "name": "stdout",
     "output_type": "stream",
     "text": [
      "6    105\n",
      "1    105\n",
      "0    105\n",
      "5    104\n",
      "4    104\n",
      "2    104\n",
      "3    103\n",
      "Name: weekday, dtype: int64\n",
      "Wed    105\n",
      "Tue    105\n",
      "Mon    105\n",
      "Sat    104\n",
      "Sun    104\n",
      "Thu    104\n",
      "Fri    103\n",
      "Name: weekday, dtype: int64\n"
     ]
    }
   ],
   "source": [
    "# Mapping weekday\n",
    "\n",
    "print(df.weekday.value_counts())\n",
    "df.weekday = df.weekday.map({0:'Tue',1:'Wed',2:'Thu',3:'Fri',4:'Sat',5:'Sun',6:'Mon'})\n",
    "print(df.weekday.value_counts())"
   ]
  },
  {
   "cell_type": "code",
   "execution_count": 16,
   "metadata": {},
   "outputs": [
    {
     "name": "stdout",
     "output_type": "stream",
     "text": [
      "1    463\n",
      "2    246\n",
      "3     21\n",
      "Name: weathersit, dtype: int64\n",
      "Clear+Few clouds                      463\n",
      "Mist+Cloudy                           246\n",
      "Light Snow+Light Rain+Thunderstorm     21\n",
      "Name: weathersit, dtype: int64\n"
     ]
    }
   ],
   "source": [
    "# Mapping weathersit\n",
    "\n",
    "print(df.weathersit.value_counts())\n",
    "df.weathersit = df.weathersit.map({1:'Clear+Few clouds',2:'Mist+Cloudy',3:'Light Snow+Light Rain+Thunderstorm',4:'Heavy Rain+Ice Pallets+Thunderstorm'})\n",
    "print(df.weathersit.value_counts())"
   ]
  },
  {
   "cell_type": "code",
   "execution_count": 17,
   "metadata": {},
   "outputs": [
    {
     "name": "stdout",
     "output_type": "stream",
     "text": [
      "12    62\n",
      "10    62\n",
      "8     62\n",
      "7     62\n",
      "5     62\n",
      "3     62\n",
      "1     62\n",
      "11    60\n",
      "9     60\n",
      "6     60\n",
      "4     60\n",
      "2     56\n",
      "Name: mnth, dtype: int64\n",
      "Mar     62\n",
      "Oct     62\n",
      "Jan     62\n",
      "Jul     62\n",
      "Aug     62\n",
      "May     62\n",
      "Dec     62\n",
      "Apr     60\n",
      "Jun     60\n",
      "Nov     60\n",
      "Sept    60\n",
      "Feb     56\n",
      "Name: mnth, dtype: int64\n"
     ]
    }
   ],
   "source": [
    "# Mapping mnth\n",
    "\n",
    "print(df.mnth.value_counts())\n",
    "df.mnth = df.mnth.map({1:'Jan',2:'Feb', 3:'Mar', 4:'Apr',5:'May',6:'Jun',7:'Jul',8:'Aug',9:'Sept',10:'Oct',11:'Nov',12:'Dec'})\n",
    "print(df.mnth.value_counts())"
   ]
  },
  {
   "cell_type": "code",
   "execution_count": 18,
   "metadata": {},
   "outputs": [
    {
     "data": {
      "text/html": [
       "<div>\n",
       "<style scoped>\n",
       "    .dataframe tbody tr th:only-of-type {\n",
       "        vertical-align: middle;\n",
       "    }\n",
       "\n",
       "    .dataframe tbody tr th {\n",
       "        vertical-align: top;\n",
       "    }\n",
       "\n",
       "    .dataframe thead th {\n",
       "        text-align: right;\n",
       "    }\n",
       "</style>\n",
       "<table border=\"1\" class=\"dataframe\">\n",
       "  <thead>\n",
       "    <tr style=\"text-align: right;\">\n",
       "      <th></th>\n",
       "      <th>season</th>\n",
       "      <th>yr</th>\n",
       "      <th>mnth</th>\n",
       "      <th>holiday</th>\n",
       "      <th>weekday</th>\n",
       "      <th>workingday</th>\n",
       "      <th>weathersit</th>\n",
       "      <th>temp</th>\n",
       "      <th>hum</th>\n",
       "      <th>windspeed</th>\n",
       "      <th>cnt</th>\n",
       "    </tr>\n",
       "  </thead>\n",
       "  <tbody>\n",
       "    <tr>\n",
       "      <th>0</th>\n",
       "      <td>Spring</td>\n",
       "      <td>0</td>\n",
       "      <td>Jan</td>\n",
       "      <td>0</td>\n",
       "      <td>Mon</td>\n",
       "      <td>0</td>\n",
       "      <td>Mist+Cloudy</td>\n",
       "      <td>14.110847</td>\n",
       "      <td>80.5833</td>\n",
       "      <td>10.749882</td>\n",
       "      <td>985</td>\n",
       "    </tr>\n",
       "    <tr>\n",
       "      <th>1</th>\n",
       "      <td>Spring</td>\n",
       "      <td>0</td>\n",
       "      <td>Jan</td>\n",
       "      <td>0</td>\n",
       "      <td>Tue</td>\n",
       "      <td>0</td>\n",
       "      <td>Mist+Cloudy</td>\n",
       "      <td>14.902598</td>\n",
       "      <td>69.6087</td>\n",
       "      <td>16.652113</td>\n",
       "      <td>801</td>\n",
       "    </tr>\n",
       "    <tr>\n",
       "      <th>2</th>\n",
       "      <td>Spring</td>\n",
       "      <td>0</td>\n",
       "      <td>Jan</td>\n",
       "      <td>0</td>\n",
       "      <td>Wed</td>\n",
       "      <td>1</td>\n",
       "      <td>Clear+Few clouds</td>\n",
       "      <td>8.050924</td>\n",
       "      <td>43.7273</td>\n",
       "      <td>16.636703</td>\n",
       "      <td>1349</td>\n",
       "    </tr>\n",
       "    <tr>\n",
       "      <th>3</th>\n",
       "      <td>Spring</td>\n",
       "      <td>0</td>\n",
       "      <td>Jan</td>\n",
       "      <td>0</td>\n",
       "      <td>Thu</td>\n",
       "      <td>1</td>\n",
       "      <td>Clear+Few clouds</td>\n",
       "      <td>8.200000</td>\n",
       "      <td>59.0435</td>\n",
       "      <td>10.739832</td>\n",
       "      <td>1562</td>\n",
       "    </tr>\n",
       "    <tr>\n",
       "      <th>4</th>\n",
       "      <td>Spring</td>\n",
       "      <td>0</td>\n",
       "      <td>Jan</td>\n",
       "      <td>0</td>\n",
       "      <td>Fri</td>\n",
       "      <td>1</td>\n",
       "      <td>Clear+Few clouds</td>\n",
       "      <td>9.305237</td>\n",
       "      <td>43.6957</td>\n",
       "      <td>12.522300</td>\n",
       "      <td>1600</td>\n",
       "    </tr>\n",
       "  </tbody>\n",
       "</table>\n",
       "</div>"
      ],
      "text/plain": [
       "   season  yr mnth  holiday weekday  workingday        weathersit       temp  \\\n",
       "0  Spring   0  Jan        0     Mon           0       Mist+Cloudy  14.110847   \n",
       "1  Spring   0  Jan        0     Tue           0       Mist+Cloudy  14.902598   \n",
       "2  Spring   0  Jan        0     Wed           1  Clear+Few clouds   8.050924   \n",
       "3  Spring   0  Jan        0     Thu           1  Clear+Few clouds   8.200000   \n",
       "4  Spring   0  Jan        0     Fri           1  Clear+Few clouds   9.305237   \n",
       "\n",
       "       hum  windspeed   cnt  \n",
       "0  80.5833  10.749882   985  \n",
       "1  69.6087  16.652113   801  \n",
       "2  43.7273  16.636703  1349  \n",
       "3  59.0435  10.739832  1562  \n",
       "4  43.6957  12.522300  1600  "
      ]
     },
     "execution_count": 18,
     "metadata": {},
     "output_type": "execute_result"
    }
   ],
   "source": [
    "df.head()"
   ]
  },
  {
   "cell_type": "code",
   "execution_count": 19,
   "metadata": {},
   "outputs": [
    {
     "name": "stdout",
     "output_type": "stream",
     "text": [
      "<class 'pandas.core.frame.DataFrame'>\n",
      "RangeIndex: 730 entries, 0 to 729\n",
      "Data columns (total 11 columns):\n",
      " #   Column      Non-Null Count  Dtype  \n",
      "---  ------      --------------  -----  \n",
      " 0   season      730 non-null    object \n",
      " 1   yr          730 non-null    int64  \n",
      " 2   mnth        730 non-null    object \n",
      " 3   holiday     730 non-null    int64  \n",
      " 4   weekday     730 non-null    object \n",
      " 5   workingday  730 non-null    int64  \n",
      " 6   weathersit  730 non-null    object \n",
      " 7   temp        730 non-null    float64\n",
      " 8   hum         730 non-null    float64\n",
      " 9   windspeed   730 non-null    float64\n",
      " 10  cnt         730 non-null    int64  \n",
      "dtypes: float64(3), int64(4), object(4)\n",
      "memory usage: 62.9+ KB\n"
     ]
    }
   ],
   "source": [
    "df.info()"
   ]
  },
  {
   "cell_type": "markdown",
   "metadata": {},
   "source": [
    "# Data Visualization of categorical variables"
   ]
  },
  {
   "cell_type": "code",
   "execution_count": 20,
   "metadata": {},
   "outputs": [
    {
     "data": {
      "image/png": "[encoded data removed]",
      "text/plain": [
       "<Figure size 1440x864 with 6 Axes>"
      ]
     },
     "metadata": {
      "needs_background": "light"
     },
     "output_type": "display_data"
    }
   ],
   "source": [
    "# Data visualization for categorical variables\n",
    "\n",
    "plt.figure(figsize=(20, 12))\n",
    "plt.subplot(2,3,1)\n",
    "sns.boxplot(x = 'season', y = 'cnt', data = df)\n",
    "plt.subplot(2,3,2)\n",
    "sns.boxplot(x = 'yr', y = 'cnt', data = df)\n",
    "plt.subplot(2,3,3)\n",
    "sns.boxplot(x = 'mnth', y = 'cnt', data = df)\n",
    "plt.subplot(2,3,4)\n",
    "sns.boxplot(x = 'holiday', y = 'cnt', data = df)\n",
    "plt.subplot(2,3,5)\n",
    "sns.boxplot(x = 'weekday', y = 'cnt', data = df)\n",
    "plt.subplot(2,3,6)\n",
    "sns.boxplot(x = 'workingday', y = 'cnt', data = df)\n",
    "plt.show()"
   ]
  },
  {
   "cell_type": "code",
   "execution_count": 21,
   "metadata": {},
   "outputs": [
    {
     "data": {
      "text/plain": [
       "<AxesSubplot:xlabel='weathersit', ylabel='cnt'>"
      ]
     },
     "execution_count": 21,
     "metadata": {},
     "output_type": "execute_result"
    },
    {
     "data": {
      "image/png": "[encoded data removed]",
      "text/plain": [
       "<Figure size 1440x864 with 1 Axes>"
      ]
     },
     "metadata": {
      "needs_background": "light"
     },
     "output_type": "display_data"
    }
   ],
   "source": [
    "plt.figure(figsize=(20, 12))\n",
    "plt.subplot(2,3,1)\n",
    "sns.boxplot(x = 'weathersit', y = 'cnt', data = df)"
   ]
  },
  {
   "cell_type": "markdown",
   "metadata": {},
   "source": [
    "#### From the above subplots followinf are the observations\n",
    "\n",
    "\n",
    "1. Bike sharing count during spring is less & in Summer, Fall and Winter the median count is more than 4000+ bookings. So season can be a very good predictor.\n",
    "2. Bike sharing count has increased from 2018 to 2019.\n",
    "3. Most of the bookings has happened in May, Jun, Jul, Aug and Sept and month could be a good predictor.\n",
    "4. Bike sharing count is less during holidays\n",
    "5. The count has zero values for Heavy Rain+Ice Pallets+Thunderstorm and count is less during Light Snow+Light Rain+Thunderstorm\n"
   ]
  },
  {
   "cell_type": "markdown",
   "metadata": {},
   "source": [
    "## Dummy Varaibles "
   ]
  },
  {
   "cell_type": "code",
   "execution_count": 22,
   "metadata": {},
   "outputs": [],
   "source": [
    "# Dummy Variables for categorical columns - season,mnth,weekday and weathersit\n",
    "\n",
    "dummy_vars = df[['season','mnth','weekday','weathersit']]\n"
   ]
  },
  {
   "cell_type": "code",
   "execution_count": 23,
   "metadata": {},
   "outputs": [
    {
     "data": {
      "text/html": [
       "<div>\n",
       "<style scoped>\n",
       "    .dataframe tbody tr th:only-of-type {\n",
       "        vertical-align: middle;\n",
       "    }\n",
       "\n",
       "    .dataframe tbody tr th {\n",
       "        vertical-align: top;\n",
       "    }\n",
       "\n",
       "    .dataframe thead th {\n",
       "        text-align: right;\n",
       "    }\n",
       "</style>\n",
       "<table border=\"1\" class=\"dataframe\">\n",
       "  <thead>\n",
       "    <tr style=\"text-align: right;\">\n",
       "      <th></th>\n",
       "      <th>season</th>\n",
       "      <th>mnth</th>\n",
       "      <th>weekday</th>\n",
       "      <th>weathersit</th>\n",
       "    </tr>\n",
       "  </thead>\n",
       "  <tbody>\n",
       "    <tr>\n",
       "      <th>0</th>\n",
       "      <td>Spring</td>\n",
       "      <td>Jan</td>\n",
       "      <td>Mon</td>\n",
       "      <td>Mist+Cloudy</td>\n",
       "    </tr>\n",
       "    <tr>\n",
       "      <th>1</th>\n",
       "      <td>Spring</td>\n",
       "      <td>Jan</td>\n",
       "      <td>Tue</td>\n",
       "      <td>Mist+Cloudy</td>\n",
       "    </tr>\n",
       "    <tr>\n",
       "      <th>2</th>\n",
       "      <td>Spring</td>\n",
       "      <td>Jan</td>\n",
       "      <td>Wed</td>\n",
       "      <td>Clear+Few clouds</td>\n",
       "    </tr>\n",
       "    <tr>\n",
       "      <th>3</th>\n",
       "      <td>Spring</td>\n",
       "      <td>Jan</td>\n",
       "      <td>Thu</td>\n",
       "      <td>Clear+Few clouds</td>\n",
       "    </tr>\n",
       "    <tr>\n",
       "      <th>4</th>\n",
       "      <td>Spring</td>\n",
       "      <td>Jan</td>\n",
       "      <td>Fri</td>\n",
       "      <td>Clear+Few clouds</td>\n",
       "    </tr>\n",
       "  </tbody>\n",
       "</table>\n",
       "</div>"
      ],
      "text/plain": [
       "   season mnth weekday        weathersit\n",
       "0  Spring  Jan     Mon       Mist+Cloudy\n",
       "1  Spring  Jan     Tue       Mist+Cloudy\n",
       "2  Spring  Jan     Wed  Clear+Few clouds\n",
       "3  Spring  Jan     Thu  Clear+Few clouds\n",
       "4  Spring  Jan     Fri  Clear+Few clouds"
      ]
     },
     "execution_count": 23,
     "metadata": {},
     "output_type": "execute_result"
    }
   ],
   "source": [
    "dummy_vars.head()"
   ]
  },
  {
   "cell_type": "code",
   "execution_count": 24,
   "metadata": {},
   "outputs": [],
   "source": [
    "dummy_vars = pd.get_dummies(dummy_vars, drop_first=True)"
   ]
  },
  {
   "cell_type": "code",
   "execution_count": 25,
   "metadata": {},
   "outputs": [
    {
     "data": {
      "text/html": [
       "<div>\n",
       "<style scoped>\n",
       "    .dataframe tbody tr th:only-of-type {\n",
       "        vertical-align: middle;\n",
       "    }\n",
       "\n",
       "    .dataframe tbody tr th {\n",
       "        vertical-align: top;\n",
       "    }\n",
       "\n",
       "    .dataframe thead th {\n",
       "        text-align: right;\n",
       "    }\n",
       "</style>\n",
       "<table border=\"1\" class=\"dataframe\">\n",
       "  <thead>\n",
       "    <tr style=\"text-align: right;\">\n",
       "      <th></th>\n",
       "      <th>season_Spring</th>\n",
       "      <th>season_Summer</th>\n",
       "      <th>season_Winter</th>\n",
       "      <th>mnth_Aug</th>\n",
       "      <th>mnth_Dec</th>\n",
       "      <th>mnth_Feb</th>\n",
       "      <th>mnth_Jan</th>\n",
       "      <th>mnth_Jul</th>\n",
       "      <th>mnth_Jun</th>\n",
       "      <th>mnth_Mar</th>\n",
       "      <th>...</th>\n",
       "      <th>mnth_Oct</th>\n",
       "      <th>mnth_Sept</th>\n",
       "      <th>weekday_Mon</th>\n",
       "      <th>weekday_Sat</th>\n",
       "      <th>weekday_Sun</th>\n",
       "      <th>weekday_Thu</th>\n",
       "      <th>weekday_Tue</th>\n",
       "      <th>weekday_Wed</th>\n",
       "      <th>weathersit_Light Snow+Light Rain+Thunderstorm</th>\n",
       "      <th>weathersit_Mist+Cloudy</th>\n",
       "    </tr>\n",
       "  </thead>\n",
       "  <tbody>\n",
       "    <tr>\n",
       "      <th>0</th>\n",
       "      <td>1</td>\n",
       "      <td>0</td>\n",
       "      <td>0</td>\n",
       "      <td>0</td>\n",
       "      <td>0</td>\n",
       "      <td>0</td>\n",
       "      <td>1</td>\n",
       "      <td>0</td>\n",
       "      <td>0</td>\n",
       "      <td>0</td>\n",
       "      <td>...</td>\n",
       "      <td>0</td>\n",
       "      <td>0</td>\n",
       "      <td>1</td>\n",
       "      <td>0</td>\n",
       "      <td>0</td>\n",
       "      <td>0</td>\n",
       "      <td>0</td>\n",
       "      <td>0</td>\n",
       "      <td>0</td>\n",
       "      <td>1</td>\n",
       "    </tr>\n",
       "    <tr>\n",
       "      <th>1</th>\n",
       "      <td>1</td>\n",
       "      <td>0</td>\n",
       "      <td>0</td>\n",
       "      <td>0</td>\n",
       "      <td>0</td>\n",
       "      <td>0</td>\n",
       "      <td>1</td>\n",
       "      <td>0</td>\n",
       "      <td>0</td>\n",
       "      <td>0</td>\n",
       "      <td>...</td>\n",
       "      <td>0</td>\n",
       "      <td>0</td>\n",
       "      <td>0</td>\n",
       "      <td>0</td>\n",
       "      <td>0</td>\n",
       "      <td>0</td>\n",
       "      <td>1</td>\n",
       "      <td>0</td>\n",
       "      <td>0</td>\n",
       "      <td>1</td>\n",
       "    </tr>\n",
       "    <tr>\n",
       "      <th>2</th>\n",
       "      <td>1</td>\n",
       "      <td>0</td>\n",
       "      <td>0</td>\n",
       "      <td>0</td>\n",
       "      <td>0</td>\n",
       "      <td>0</td>\n",
       "      <td>1</td>\n",
       "      <td>0</td>\n",
       "      <td>0</td>\n",
       "      <td>0</td>\n",
       "      <td>...</td>\n",
       "      <td>0</td>\n",
       "      <td>0</td>\n",
       "      <td>0</td>\n",
       "      <td>0</td>\n",
       "      <td>0</td>\n",
       "      <td>0</td>\n",
       "      <td>0</td>\n",
       "      <td>1</td>\n",
       "      <td>0</td>\n",
       "      <td>0</td>\n",
       "    </tr>\n",
       "    <tr>\n",
       "      <th>3</th>\n",
       "      <td>1</td>\n",
       "      <td>0</td>\n",
       "      <td>0</td>\n",
       "      <td>0</td>\n",
       "      <td>0</td>\n",
       "      <td>0</td>\n",
       "      <td>1</td>\n",
       "      <td>0</td>\n",
       "      <td>0</td>\n",
       "      <td>0</td>\n",
       "      <td>...</td>\n",
       "      <td>0</td>\n",
       "      <td>0</td>\n",
       "      <td>0</td>\n",
       "      <td>0</td>\n",
       "      <td>0</td>\n",
       "      <td>1</td>\n",
       "      <td>0</td>\n",
       "      <td>0</td>\n",
       "      <td>0</td>\n",
       "      <td>0</td>\n",
       "    </tr>\n",
       "    <tr>\n",
       "      <th>4</th>\n",
       "      <td>1</td>\n",
       "      <td>0</td>\n",
       "      <td>0</td>\n",
       "      <td>0</td>\n",
       "      <td>0</td>\n",
       "      <td>0</td>\n",
       "      <td>1</td>\n",
       "      <td>0</td>\n",
       "      <td>0</td>\n",
       "      <td>0</td>\n",
       "      <td>...</td>\n",
       "      <td>0</td>\n",
       "      <td>0</td>\n",
       "      <td>0</td>\n",
       "      <td>0</td>\n",
       "      <td>0</td>\n",
       "      <td>0</td>\n",
       "      <td>0</td>\n",
       "      <td>0</td>\n",
       "      <td>0</td>\n",
       "      <td>0</td>\n",
       "    </tr>\n",
       "  </tbody>\n",
       "</table>\n",
       "<p>5 rows × 22 columns</p>\n",
       "</div>"
      ],
      "text/plain": [
       "   season_Spring  season_Summer  season_Winter  mnth_Aug  mnth_Dec  mnth_Feb  \\\n",
       "0              1              0              0         0         0         0   \n",
       "1              1              0              0         0         0         0   \n",
       "2              1              0              0         0         0         0   \n",
       "3              1              0              0         0         0         0   \n",
       "4              1              0              0         0         0         0   \n",
       "\n",
       "   mnth_Jan  mnth_Jul  mnth_Jun  mnth_Mar  ...  mnth_Oct  mnth_Sept  \\\n",
       "0         1         0         0         0  ...         0          0   \n",
       "1         1         0         0         0  ...         0          0   \n",
       "2         1         0         0         0  ...         0          0   \n",
       "3         1         0         0         0  ...         0          0   \n",
       "4         1         0         0         0  ...         0          0   \n",
       "\n",
       "   weekday_Mon  weekday_Sat  weekday_Sun  weekday_Thu  weekday_Tue  \\\n",
       "0            1            0            0            0            0   \n",
       "1            0            0            0            0            1   \n",
       "2            0            0            0            0            0   \n",
       "3            0            0            0            1            0   \n",
       "4            0            0            0            0            0   \n",
       "\n",
       "   weekday_Wed  weathersit_Light Snow+Light Rain+Thunderstorm  \\\n",
       "0            0                                              0   \n",
       "1            0                                              0   \n",
       "2            1                                              0   \n",
       "3            0                                              0   \n",
       "4            0                                              0   \n",
       "\n",
       "   weathersit_Mist+Cloudy  \n",
       "0                       1  \n",
       "1                       1  \n",
       "2                       0  \n",
       "3                       0  \n",
       "4                       0  \n",
       "\n",
       "[5 rows x 22 columns]"
      ]
     },
     "execution_count": 25,
     "metadata": {},
     "output_type": "execute_result"
    }
   ],
   "source": [
    "dummy_vars.head()"
   ]
  },
  {
   "cell_type": "code",
   "execution_count": 26,
   "metadata": {},
   "outputs": [],
   "source": [
    "# concat the dummy_vars with the original one \n",
    "\n",
    "df = pd.concat([df, dummy_vars], axis=1)"
   ]
  },
  {
   "cell_type": "code",
   "execution_count": 27,
   "metadata": {},
   "outputs": [
    {
     "data": {
      "text/html": [
       "<div>\n",
       "<style scoped>\n",
       "    .dataframe tbody tr th:only-of-type {\n",
       "        vertical-align: middle;\n",
       "    }\n",
       "\n",
       "    .dataframe tbody tr th {\n",
       "        vertical-align: top;\n",
       "    }\n",
       "\n",
       "    .dataframe thead th {\n",
       "        text-align: right;\n",
       "    }\n",
       "</style>\n",
       "<table border=\"1\" class=\"dataframe\">\n",
       "  <thead>\n",
       "    <tr style=\"text-align: right;\">\n",
       "      <th></th>\n",
       "      <th>season</th>\n",
       "      <th>yr</th>\n",
       "      <th>mnth</th>\n",
       "      <th>holiday</th>\n",
       "      <th>weekday</th>\n",
       "      <th>workingday</th>\n",
       "      <th>weathersit</th>\n",
       "      <th>temp</th>\n",
       "      <th>hum</th>\n",
       "      <th>windspeed</th>\n",
       "      <th>...</th>\n",
       "      <th>mnth_Oct</th>\n",
       "      <th>mnth_Sept</th>\n",
       "      <th>weekday_Mon</th>\n",
       "      <th>weekday_Sat</th>\n",
       "      <th>weekday_Sun</th>\n",
       "      <th>weekday_Thu</th>\n",
       "      <th>weekday_Tue</th>\n",
       "      <th>weekday_Wed</th>\n",
       "      <th>weathersit_Light Snow+Light Rain+Thunderstorm</th>\n",
       "      <th>weathersit_Mist+Cloudy</th>\n",
       "    </tr>\n",
       "  </thead>\n",
       "  <tbody>\n",
       "    <tr>\n",
       "      <th>0</th>\n",
       "      <td>Spring</td>\n",
       "      <td>0</td>\n",
       "      <td>Jan</td>\n",
       "      <td>0</td>\n",
       "      <td>Mon</td>\n",
       "      <td>0</td>\n",
       "      <td>Mist+Cloudy</td>\n",
       "      <td>14.110847</td>\n",
       "      <td>80.5833</td>\n",
       "      <td>10.749882</td>\n",
       "      <td>...</td>\n",
       "      <td>0</td>\n",
       "      <td>0</td>\n",
       "      <td>1</td>\n",
       "      <td>0</td>\n",
       "      <td>0</td>\n",
       "      <td>0</td>\n",
       "      <td>0</td>\n",
       "      <td>0</td>\n",
       "      <td>0</td>\n",
       "      <td>1</td>\n",
       "    </tr>\n",
       "    <tr>\n",
       "      <th>1</th>\n",
       "      <td>Spring</td>\n",
       "      <td>0</td>\n",
       "      <td>Jan</td>\n",
       "      <td>0</td>\n",
       "      <td>Tue</td>\n",
       "      <td>0</td>\n",
       "      <td>Mist+Cloudy</td>\n",
       "      <td>14.902598</td>\n",
       "      <td>69.6087</td>\n",
       "      <td>16.652113</td>\n",
       "      <td>...</td>\n",
       "      <td>0</td>\n",
       "      <td>0</td>\n",
       "      <td>0</td>\n",
       "      <td>0</td>\n",
       "      <td>0</td>\n",
       "      <td>0</td>\n",
       "      <td>1</td>\n",
       "      <td>0</td>\n",
       "      <td>0</td>\n",
       "      <td>1</td>\n",
       "    </tr>\n",
       "    <tr>\n",
       "      <th>2</th>\n",
       "      <td>Spring</td>\n",
       "      <td>0</td>\n",
       "      <td>Jan</td>\n",
       "      <td>0</td>\n",
       "      <td>Wed</td>\n",
       "      <td>1</td>\n",
       "      <td>Clear+Few clouds</td>\n",
       "      <td>8.050924</td>\n",
       "      <td>43.7273</td>\n",
       "      <td>16.636703</td>\n",
       "      <td>...</td>\n",
       "      <td>0</td>\n",
       "      <td>0</td>\n",
       "      <td>0</td>\n",
       "      <td>0</td>\n",
       "      <td>0</td>\n",
       "      <td>0</td>\n",
       "      <td>0</td>\n",
       "      <td>1</td>\n",
       "      <td>0</td>\n",
       "      <td>0</td>\n",
       "    </tr>\n",
       "    <tr>\n",
       "      <th>3</th>\n",
       "      <td>Spring</td>\n",
       "      <td>0</td>\n",
       "      <td>Jan</td>\n",
       "      <td>0</td>\n",
       "      <td>Thu</td>\n",
       "      <td>1</td>\n",
       "      <td>Clear+Few clouds</td>\n",
       "      <td>8.200000</td>\n",
       "      <td>59.0435</td>\n",
       "      <td>10.739832</td>\n",
       "      <td>...</td>\n",
       "      <td>0</td>\n",
       "      <td>0</td>\n",
       "      <td>0</td>\n",
       "      <td>0</td>\n",
       "      <td>0</td>\n",
       "      <td>1</td>\n",
       "      <td>0</td>\n",
       "      <td>0</td>\n",
       "      <td>0</td>\n",
       "      <td>0</td>\n",
       "    </tr>\n",
       "    <tr>\n",
       "      <th>4</th>\n",
       "      <td>Spring</td>\n",
       "      <td>0</td>\n",
       "      <td>Jan</td>\n",
       "      <td>0</td>\n",
       "      <td>Fri</td>\n",
       "      <td>1</td>\n",
       "      <td>Clear+Few clouds</td>\n",
       "      <td>9.305237</td>\n",
       "      <td>43.6957</td>\n",
       "      <td>12.522300</td>\n",
       "      <td>...</td>\n",
       "      <td>0</td>\n",
       "      <td>0</td>\n",
       "      <td>0</td>\n",
       "      <td>0</td>\n",
       "      <td>0</td>\n",
       "      <td>0</td>\n",
       "      <td>0</td>\n",
       "      <td>0</td>\n",
       "      <td>0</td>\n",
       "      <td>0</td>\n",
       "    </tr>\n",
       "  </tbody>\n",
       "</table>\n",
       "<p>5 rows × 33 columns</p>\n",
       "</div>"
      ],
      "text/plain": [
       "   season  yr mnth  holiday weekday  workingday        weathersit       temp  \\\n",
       "0  Spring   0  Jan        0     Mon           0       Mist+Cloudy  14.110847   \n",
       "1  Spring   0  Jan        0     Tue           0       Mist+Cloudy  14.902598   \n",
       "2  Spring   0  Jan        0     Wed           1  Clear+Few clouds   8.050924   \n",
       "3  Spring   0  Jan        0     Thu           1  Clear+Few clouds   8.200000   \n",
       "4  Spring   0  Jan        0     Fri           1  Clear+Few clouds   9.305237   \n",
       "\n",
       "       hum  windspeed  ...  mnth_Oct  mnth_Sept  weekday_Mon  weekday_Sat  \\\n",
       "0  80.5833  10.749882  ...         0          0            1            0   \n",
       "1  69.6087  16.652113  ...         0          0            0            0   \n",
       "2  43.7273  16.636703  ...         0          0            0            0   \n",
       "3  59.0435  10.739832  ...         0          0            0            0   \n",
       "4  43.6957  12.522300  ...         0          0            0            0   \n",
       "\n",
       "   weekday_Sun  weekday_Thu  weekday_Tue  weekday_Wed  \\\n",
       "0            0            0            0            0   \n",
       "1            0            0            1            0   \n",
       "2            0            0            0            1   \n",
       "3            0            1            0            0   \n",
       "4            0            0            0            0   \n",
       "\n",
       "   weathersit_Light Snow+Light Rain+Thunderstorm  weathersit_Mist+Cloudy  \n",
       "0                                              0                       1  \n",
       "1                                              0                       1  \n",
       "2                                              0                       0  \n",
       "3                                              0                       0  \n",
       "4                                              0                       0  \n",
       "\n",
       "[5 rows x 33 columns]"
      ]
     },
     "execution_count": 27,
     "metadata": {},
     "output_type": "execute_result"
    }
   ],
   "source": [
    "df.head()"
   ]
  },
  {
   "cell_type": "code",
   "execution_count": 28,
   "metadata": {},
   "outputs": [],
   "source": [
    "# Drop the columns for which we have created dummies \n",
    "\n",
    "df = df.drop(['season','mnth','weekday','weathersit'],axis=1)"
   ]
  },
  {
   "cell_type": "code",
   "execution_count": 29,
   "metadata": {},
   "outputs": [
    {
     "data": {
      "text/html": [
       "<div>\n",
       "<style scoped>\n",
       "    .dataframe tbody tr th:only-of-type {\n",
       "        vertical-align: middle;\n",
       "    }\n",
       "\n",
       "    .dataframe tbody tr th {\n",
       "        vertical-align: top;\n",
       "    }\n",
       "\n",
       "    .dataframe thead th {\n",
       "        text-align: right;\n",
       "    }\n",
       "</style>\n",
       "<table border=\"1\" class=\"dataframe\">\n",
       "  <thead>\n",
       "    <tr style=\"text-align: right;\">\n",
       "      <th></th>\n",
       "      <th>yr</th>\n",
       "      <th>holiday</th>\n",
       "      <th>workingday</th>\n",
       "      <th>temp</th>\n",
       "      <th>hum</th>\n",
       "      <th>windspeed</th>\n",
       "      <th>cnt</th>\n",
       "      <th>season_Spring</th>\n",
       "      <th>season_Summer</th>\n",
       "      <th>season_Winter</th>\n",
       "      <th>...</th>\n",
       "      <th>mnth_Oct</th>\n",
       "      <th>mnth_Sept</th>\n",
       "      <th>weekday_Mon</th>\n",
       "      <th>weekday_Sat</th>\n",
       "      <th>weekday_Sun</th>\n",
       "      <th>weekday_Thu</th>\n",
       "      <th>weekday_Tue</th>\n",
       "      <th>weekday_Wed</th>\n",
       "      <th>weathersit_Light Snow+Light Rain+Thunderstorm</th>\n",
       "      <th>weathersit_Mist+Cloudy</th>\n",
       "    </tr>\n",
       "  </thead>\n",
       "  <tbody>\n",
       "    <tr>\n",
       "      <th>0</th>\n",
       "      <td>0</td>\n",
       "      <td>0</td>\n",
       "      <td>0</td>\n",
       "      <td>14.110847</td>\n",
       "      <td>80.5833</td>\n",
       "      <td>10.749882</td>\n",
       "      <td>985</td>\n",
       "      <td>1</td>\n",
       "      <td>0</td>\n",
       "      <td>0</td>\n",
       "      <td>...</td>\n",
       "      <td>0</td>\n",
       "      <td>0</td>\n",
       "      <td>1</td>\n",
       "      <td>0</td>\n",
       "      <td>0</td>\n",
       "      <td>0</td>\n",
       "      <td>0</td>\n",
       "      <td>0</td>\n",
       "      <td>0</td>\n",
       "      <td>1</td>\n",
       "    </tr>\n",
       "    <tr>\n",
       "      <th>1</th>\n",
       "      <td>0</td>\n",
       "      <td>0</td>\n",
       "      <td>0</td>\n",
       "      <td>14.902598</td>\n",
       "      <td>69.6087</td>\n",
       "      <td>16.652113</td>\n",
       "      <td>801</td>\n",
       "      <td>1</td>\n",
       "      <td>0</td>\n",
       "      <td>0</td>\n",
       "      <td>...</td>\n",
       "      <td>0</td>\n",
       "      <td>0</td>\n",
       "      <td>0</td>\n",
       "      <td>0</td>\n",
       "      <td>0</td>\n",
       "      <td>0</td>\n",
       "      <td>1</td>\n",
       "      <td>0</td>\n",
       "      <td>0</td>\n",
       "      <td>1</td>\n",
       "    </tr>\n",
       "    <tr>\n",
       "      <th>2</th>\n",
       "      <td>0</td>\n",
       "      <td>0</td>\n",
       "      <td>1</td>\n",
       "      <td>8.050924</td>\n",
       "      <td>43.7273</td>\n",
       "      <td>16.636703</td>\n",
       "      <td>1349</td>\n",
       "      <td>1</td>\n",
       "      <td>0</td>\n",
       "      <td>0</td>\n",
       "      <td>...</td>\n",
       "      <td>0</td>\n",
       "      <td>0</td>\n",
       "      <td>0</td>\n",
       "      <td>0</td>\n",
       "      <td>0</td>\n",
       "      <td>0</td>\n",
       "      <td>0</td>\n",
       "      <td>1</td>\n",
       "      <td>0</td>\n",
       "      <td>0</td>\n",
       "    </tr>\n",
       "    <tr>\n",
       "      <th>3</th>\n",
       "      <td>0</td>\n",
       "      <td>0</td>\n",
       "      <td>1</td>\n",
       "      <td>8.200000</td>\n",
       "      <td>59.0435</td>\n",
       "      <td>10.739832</td>\n",
       "      <td>1562</td>\n",
       "      <td>1</td>\n",
       "      <td>0</td>\n",
       "      <td>0</td>\n",
       "      <td>...</td>\n",
       "      <td>0</td>\n",
       "      <td>0</td>\n",
       "      <td>0</td>\n",
       "      <td>0</td>\n",
       "      <td>0</td>\n",
       "      <td>1</td>\n",
       "      <td>0</td>\n",
       "      <td>0</td>\n",
       "      <td>0</td>\n",
       "      <td>0</td>\n",
       "    </tr>\n",
       "    <tr>\n",
       "      <th>4</th>\n",
       "      <td>0</td>\n",
       "      <td>0</td>\n",
       "      <td>1</td>\n",
       "      <td>9.305237</td>\n",
       "      <td>43.6957</td>\n",
       "      <td>12.522300</td>\n",
       "      <td>1600</td>\n",
       "      <td>1</td>\n",
       "      <td>0</td>\n",
       "      <td>0</td>\n",
       "      <td>...</td>\n",
       "      <td>0</td>\n",
       "      <td>0</td>\n",
       "      <td>0</td>\n",
       "      <td>0</td>\n",
       "      <td>0</td>\n",
       "      <td>0</td>\n",
       "      <td>0</td>\n",
       "      <td>0</td>\n",
       "      <td>0</td>\n",
       "      <td>0</td>\n",
       "    </tr>\n",
       "  </tbody>\n",
       "</table>\n",
       "<p>5 rows × 29 columns</p>\n",
       "</div>"
      ],
      "text/plain": [
       "   yr  holiday  workingday       temp      hum  windspeed   cnt  \\\n",
       "0   0        0           0  14.110847  80.5833  10.749882   985   \n",
       "1   0        0           0  14.902598  69.6087  16.652113   801   \n",
       "2   0        0           1   8.050924  43.7273  16.636703  1349   \n",
       "3   0        0           1   8.200000  59.0435  10.739832  1562   \n",
       "4   0        0           1   9.305237  43.6957  12.522300  1600   \n",
       "\n",
       "   season_Spring  season_Summer  season_Winter  ...  mnth_Oct  mnth_Sept  \\\n",
       "0              1              0              0  ...         0          0   \n",
       "1              1              0              0  ...         0          0   \n",
       "2              1              0              0  ...         0          0   \n",
       "3              1              0              0  ...         0          0   \n",
       "4              1              0              0  ...         0          0   \n",
       "\n",
       "   weekday_Mon  weekday_Sat  weekday_Sun  weekday_Thu  weekday_Tue  \\\n",
       "0            1            0            0            0            0   \n",
       "1            0            0            0            0            1   \n",
       "2            0            0            0            0            0   \n",
       "3            0            0            0            1            0   \n",
       "4            0            0            0            0            0   \n",
       "\n",
       "   weekday_Wed  weathersit_Light Snow+Light Rain+Thunderstorm  \\\n",
       "0            0                                              0   \n",
       "1            0                                              0   \n",
       "2            1                                              0   \n",
       "3            0                                              0   \n",
       "4            0                                              0   \n",
       "\n",
       "   weathersit_Mist+Cloudy  \n",
       "0                       1  \n",
       "1                       1  \n",
       "2                       0  \n",
       "3                       0  \n",
       "4                       0  \n",
       "\n",
       "[5 rows x 29 columns]"
      ]
     },
     "execution_count": 29,
     "metadata": {},
     "output_type": "execute_result"
    }
   ],
   "source": [
    "df.head()"
   ]
  },
  {
   "cell_type": "code",
   "execution_count": 30,
   "metadata": {},
   "outputs": [
    {
     "data": {
      "text/plain": [
       "(730, 29)"
      ]
     },
     "execution_count": 30,
     "metadata": {},
     "output_type": "execute_result"
    }
   ],
   "source": [
    "df.shape"
   ]
  },
  {
   "cell_type": "code",
   "execution_count": 31,
   "metadata": {},
   "outputs": [
    {
     "data": {
      "text/html": [
       "<div>\n",
       "<style scoped>\n",
       "    .dataframe tbody tr th:only-of-type {\n",
       "        vertical-align: middle;\n",
       "    }\n",
       "\n",
       "    .dataframe tbody tr th {\n",
       "        vertical-align: top;\n",
       "    }\n",
       "\n",
       "    .dataframe thead th {\n",
       "        text-align: right;\n",
       "    }\n",
       "</style>\n",
       "<table border=\"1\" class=\"dataframe\">\n",
       "  <thead>\n",
       "    <tr style=\"text-align: right;\">\n",
       "      <th></th>\n",
       "      <th>yr</th>\n",
       "      <th>holiday</th>\n",
       "      <th>workingday</th>\n",
       "      <th>temp</th>\n",
       "      <th>hum</th>\n",
       "      <th>windspeed</th>\n",
       "      <th>cnt</th>\n",
       "      <th>season_Spring</th>\n",
       "      <th>season_Summer</th>\n",
       "      <th>season_Winter</th>\n",
       "      <th>...</th>\n",
       "      <th>mnth_Oct</th>\n",
       "      <th>mnth_Sept</th>\n",
       "      <th>weekday_Mon</th>\n",
       "      <th>weekday_Sat</th>\n",
       "      <th>weekday_Sun</th>\n",
       "      <th>weekday_Thu</th>\n",
       "      <th>weekday_Tue</th>\n",
       "      <th>weekday_Wed</th>\n",
       "      <th>weathersit_Light Snow+Light Rain+Thunderstorm</th>\n",
       "      <th>weathersit_Mist+Cloudy</th>\n",
       "    </tr>\n",
       "  </thead>\n",
       "  <tbody>\n",
       "    <tr>\n",
       "      <th>count</th>\n",
       "      <td>730.000000</td>\n",
       "      <td>730.000000</td>\n",
       "      <td>730.000000</td>\n",
       "      <td>730.000000</td>\n",
       "      <td>730.000000</td>\n",
       "      <td>730.000000</td>\n",
       "      <td>730.000000</td>\n",
       "      <td>730.000000</td>\n",
       "      <td>730.000000</td>\n",
       "      <td>730.000000</td>\n",
       "      <td>...</td>\n",
       "      <td>730.000000</td>\n",
       "      <td>730.000000</td>\n",
       "      <td>730.000000</td>\n",
       "      <td>730.000000</td>\n",
       "      <td>730.000000</td>\n",
       "      <td>730.000000</td>\n",
       "      <td>730.000000</td>\n",
       "      <td>730.000000</td>\n",
       "      <td>730.000000</td>\n",
       "      <td>730.000000</td>\n",
       "    </tr>\n",
       "    <tr>\n",
       "      <th>mean</th>\n",
       "      <td>0.500000</td>\n",
       "      <td>0.028767</td>\n",
       "      <td>0.683562</td>\n",
       "      <td>20.319259</td>\n",
       "      <td>62.765175</td>\n",
       "      <td>12.763620</td>\n",
       "      <td>4508.006849</td>\n",
       "      <td>0.246575</td>\n",
       "      <td>0.252055</td>\n",
       "      <td>0.243836</td>\n",
       "      <td>...</td>\n",
       "      <td>0.084932</td>\n",
       "      <td>0.082192</td>\n",
       "      <td>0.143836</td>\n",
       "      <td>0.142466</td>\n",
       "      <td>0.142466</td>\n",
       "      <td>0.142466</td>\n",
       "      <td>0.143836</td>\n",
       "      <td>0.143836</td>\n",
       "      <td>0.028767</td>\n",
       "      <td>0.336986</td>\n",
       "    </tr>\n",
       "    <tr>\n",
       "      <th>std</th>\n",
       "      <td>0.500343</td>\n",
       "      <td>0.167266</td>\n",
       "      <td>0.465405</td>\n",
       "      <td>7.506729</td>\n",
       "      <td>14.237589</td>\n",
       "      <td>5.195841</td>\n",
       "      <td>1936.011647</td>\n",
       "      <td>0.431313</td>\n",
       "      <td>0.434490</td>\n",
       "      <td>0.429689</td>\n",
       "      <td>...</td>\n",
       "      <td>0.278971</td>\n",
       "      <td>0.274845</td>\n",
       "      <td>0.351164</td>\n",
       "      <td>0.349767</td>\n",
       "      <td>0.349767</td>\n",
       "      <td>0.349767</td>\n",
       "      <td>0.351164</td>\n",
       "      <td>0.351164</td>\n",
       "      <td>0.167266</td>\n",
       "      <td>0.473004</td>\n",
       "    </tr>\n",
       "    <tr>\n",
       "      <th>min</th>\n",
       "      <td>0.000000</td>\n",
       "      <td>0.000000</td>\n",
       "      <td>0.000000</td>\n",
       "      <td>2.424346</td>\n",
       "      <td>0.000000</td>\n",
       "      <td>1.500244</td>\n",
       "      <td>22.000000</td>\n",
       "      <td>0.000000</td>\n",
       "      <td>0.000000</td>\n",
       "      <td>0.000000</td>\n",
       "      <td>...</td>\n",
       "      <td>0.000000</td>\n",
       "      <td>0.000000</td>\n",
       "      <td>0.000000</td>\n",
       "      <td>0.000000</td>\n",
       "      <td>0.000000</td>\n",
       "      <td>0.000000</td>\n",
       "      <td>0.000000</td>\n",
       "      <td>0.000000</td>\n",
       "      <td>0.000000</td>\n",
       "      <td>0.000000</td>\n",
       "    </tr>\n",
       "    <tr>\n",
       "      <th>25%</th>\n",
       "      <td>0.000000</td>\n",
       "      <td>0.000000</td>\n",
       "      <td>0.000000</td>\n",
       "      <td>13.811885</td>\n",
       "      <td>52.000000</td>\n",
       "      <td>9.041650</td>\n",
       "      <td>3169.750000</td>\n",
       "      <td>0.000000</td>\n",
       "      <td>0.000000</td>\n",
       "      <td>0.000000</td>\n",
       "      <td>...</td>\n",
       "      <td>0.000000</td>\n",
       "      <td>0.000000</td>\n",
       "      <td>0.000000</td>\n",
       "      <td>0.000000</td>\n",
       "      <td>0.000000</td>\n",
       "      <td>0.000000</td>\n",
       "      <td>0.000000</td>\n",
       "      <td>0.000000</td>\n",
       "      <td>0.000000</td>\n",
       "      <td>0.000000</td>\n",
       "    </tr>\n",
       "    <tr>\n",
       "      <th>50%</th>\n",
       "      <td>0.500000</td>\n",
       "      <td>0.000000</td>\n",
       "      <td>1.000000</td>\n",
       "      <td>20.465826</td>\n",
       "      <td>62.625000</td>\n",
       "      <td>12.125325</td>\n",
       "      <td>4548.500000</td>\n",
       "      <td>0.000000</td>\n",
       "      <td>0.000000</td>\n",
       "      <td>0.000000</td>\n",
       "      <td>...</td>\n",
       "      <td>0.000000</td>\n",
       "      <td>0.000000</td>\n",
       "      <td>0.000000</td>\n",
       "      <td>0.000000</td>\n",
       "      <td>0.000000</td>\n",
       "      <td>0.000000</td>\n",
       "      <td>0.000000</td>\n",
       "      <td>0.000000</td>\n",
       "      <td>0.000000</td>\n",
       "      <td>0.000000</td>\n",
       "    </tr>\n",
       "    <tr>\n",
       "      <th>75%</th>\n",
       "      <td>1.000000</td>\n",
       "      <td>0.000000</td>\n",
       "      <td>1.000000</td>\n",
       "      <td>26.880615</td>\n",
       "      <td>72.989575</td>\n",
       "      <td>15.625589</td>\n",
       "      <td>5966.000000</td>\n",
       "      <td>0.000000</td>\n",
       "      <td>1.000000</td>\n",
       "      <td>0.000000</td>\n",
       "      <td>...</td>\n",
       "      <td>0.000000</td>\n",
       "      <td>0.000000</td>\n",
       "      <td>0.000000</td>\n",
       "      <td>0.000000</td>\n",
       "      <td>0.000000</td>\n",
       "      <td>0.000000</td>\n",
       "      <td>0.000000</td>\n",
       "      <td>0.000000</td>\n",
       "      <td>0.000000</td>\n",
       "      <td>1.000000</td>\n",
       "    </tr>\n",
       "    <tr>\n",
       "      <th>max</th>\n",
       "      <td>1.000000</td>\n",
       "      <td>1.000000</td>\n",
       "      <td>1.000000</td>\n",
       "      <td>35.328347</td>\n",
       "      <td>97.250000</td>\n",
       "      <td>34.000021</td>\n",
       "      <td>8714.000000</td>\n",
       "      <td>1.000000</td>\n",
       "      <td>1.000000</td>\n",
       "      <td>1.000000</td>\n",
       "      <td>...</td>\n",
       "      <td>1.000000</td>\n",
       "      <td>1.000000</td>\n",
       "      <td>1.000000</td>\n",
       "      <td>1.000000</td>\n",
       "      <td>1.000000</td>\n",
       "      <td>1.000000</td>\n",
       "      <td>1.000000</td>\n",
       "      <td>1.000000</td>\n",
       "      <td>1.000000</td>\n",
       "      <td>1.000000</td>\n",
       "    </tr>\n",
       "  </tbody>\n",
       "</table>\n",
       "<p>8 rows × 29 columns</p>\n",
       "</div>"
      ],
      "text/plain": [
       "               yr     holiday  workingday        temp         hum   windspeed  \\\n",
       "count  730.000000  730.000000  730.000000  730.000000  730.000000  730.000000   \n",
       "mean     0.500000    0.028767    0.683562   20.319259   62.765175   12.763620   \n",
       "std      0.500343    0.167266    0.465405    7.506729   14.237589    5.195841   \n",
       "min      0.000000    0.000000    0.000000    2.424346    0.000000    1.500244   \n",
       "25%      0.000000    0.000000    0.000000   13.811885   52.000000    9.041650   \n",
       "50%      0.500000    0.000000    1.000000   20.465826   62.625000   12.125325   \n",
       "75%      1.000000    0.000000    1.000000   26.880615   72.989575   15.625589   \n",
       "max      1.000000    1.000000    1.000000   35.328347   97.250000   34.000021   \n",
       "\n",
       "               cnt  season_Spring  season_Summer  season_Winter  ...  \\\n",
       "count   730.000000     730.000000     730.000000     730.000000  ...   \n",
       "mean   4508.006849       0.246575       0.252055       0.243836  ...   \n",
       "std    1936.011647       0.431313       0.434490       0.429689  ...   \n",
       "min      22.000000       0.000000       0.000000       0.000000  ...   \n",
       "25%    3169.750000       0.000000       0.000000       0.000000  ...   \n",
       "50%    4548.500000       0.000000       0.000000       0.000000  ...   \n",
       "75%    5966.000000       0.000000       1.000000       0.000000  ...   \n",
       "max    8714.000000       1.000000       1.000000       1.000000  ...   \n",
       "\n",
       "         mnth_Oct   mnth_Sept  weekday_Mon  weekday_Sat  weekday_Sun  \\\n",
       "count  730.000000  730.000000   730.000000   730.000000   730.000000   \n",
       "mean     0.084932    0.082192     0.143836     0.142466     0.142466   \n",
       "std      0.278971    0.274845     0.351164     0.349767     0.349767   \n",
       "min      0.000000    0.000000     0.000000     0.000000     0.000000   \n",
       "25%      0.000000    0.000000     0.000000     0.000000     0.000000   \n",
       "50%      0.000000    0.000000     0.000000     0.000000     0.000000   \n",
       "75%      0.000000    0.000000     0.000000     0.000000     0.000000   \n",
       "max      1.000000    1.000000     1.000000     1.000000     1.000000   \n",
       "\n",
       "       weekday_Thu  weekday_Tue  weekday_Wed  \\\n",
       "count   730.000000   730.000000   730.000000   \n",
       "mean      0.142466     0.143836     0.143836   \n",
       "std       0.349767     0.351164     0.351164   \n",
       "min       0.000000     0.000000     0.000000   \n",
       "25%       0.000000     0.000000     0.000000   \n",
       "50%       0.000000     0.000000     0.000000   \n",
       "75%       0.000000     0.000000     0.000000   \n",
       "max       1.000000     1.000000     1.000000   \n",
       "\n",
       "       weathersit_Light Snow+Light Rain+Thunderstorm  weathersit_Mist+Cloudy  \n",
       "count                                     730.000000              730.000000  \n",
       "mean                                        0.028767                0.336986  \n",
       "std                                         0.167266                0.473004  \n",
       "min                                         0.000000                0.000000  \n",
       "25%                                         0.000000                0.000000  \n",
       "50%                                         0.000000                0.000000  \n",
       "75%                                         0.000000                1.000000  \n",
       "max                                         1.000000                1.000000  \n",
       "\n",
       "[8 rows x 29 columns]"
      ]
     },
     "execution_count": 31,
     "metadata": {},
     "output_type": "execute_result"
    }
   ],
   "source": [
    "df.describe()"
   ]
  },
  {
   "cell_type": "markdown",
   "metadata": {},
   "source": [
    "### Splitting the data into training and testing sets"
   ]
  },
  {
   "cell_type": "code",
   "execution_count": 32,
   "metadata": {},
   "outputs": [],
   "source": [
    "import sklearn \n",
    "from sklearn.model_selection import train_test_split\n",
    "\n",
    "np.random.seed(0)\n",
    "df_train, df_test = train_test_split(df, train_size = 0.7, test_size = 0.3, random_state = 100)"
   ]
  },
  {
   "cell_type": "code",
   "execution_count": 33,
   "metadata": {},
   "outputs": [
    {
     "name": "stdout",
     "output_type": "stream",
     "text": [
      "(510, 29)\n",
      "(219, 29)\n"
     ]
    }
   ],
   "source": [
    "print(df_train.shape)\n",
    "print(df_test.shape)"
   ]
  },
  {
   "cell_type": "markdown",
   "metadata": {},
   "source": [
    "### Rescaling features \n",
    "### We will use Min_Max scaling to normalize the data"
   ]
  },
  {
   "cell_type": "code",
   "execution_count": 34,
   "metadata": {},
   "outputs": [
    {
     "name": "stdout",
     "output_type": "stream",
     "text": [
      "<class 'pandas.core.frame.DataFrame'>\n",
      "Int64Index: 510 entries, 653 to 79\n",
      "Data columns (total 29 columns):\n",
      " #   Column                                         Non-Null Count  Dtype  \n",
      "---  ------                                         --------------  -----  \n",
      " 0   yr                                             510 non-null    int64  \n",
      " 1   holiday                                        510 non-null    int64  \n",
      " 2   workingday                                     510 non-null    int64  \n",
      " 3   temp                                           510 non-null    float64\n",
      " 4   hum                                            510 non-null    float64\n",
      " 5   windspeed                                      510 non-null    float64\n",
      " 6   cnt                                            510 non-null    int64  \n",
      " 7   season_Spring                                  510 non-null    uint8  \n",
      " 8   season_Summer                                  510 non-null    uint8  \n",
      " 9   season_Winter                                  510 non-null    uint8  \n",
      " 10  mnth_Aug                                       510 non-null    uint8  \n",
      " 11  mnth_Dec                                       510 non-null    uint8  \n",
      " 12  mnth_Feb                                       510 non-null    uint8  \n",
      " 13  mnth_Jan                                       510 non-null    uint8  \n",
      " 14  mnth_Jul                                       510 non-null    uint8  \n",
      " 15  mnth_Jun                                       510 non-null    uint8  \n",
      " 16  mnth_Mar                                       510 non-null    uint8  \n",
      " 17  mnth_May                                       510 non-null    uint8  \n",
      " 18  mnth_Nov                                       510 non-null    uint8  \n",
      " 19  mnth_Oct                                       510 non-null    uint8  \n",
      " 20  mnth_Sept                                      510 non-null    uint8  \n",
      " 21  weekday_Mon                                    510 non-null    uint8  \n",
      " 22  weekday_Sat                                    510 non-null    uint8  \n",
      " 23  weekday_Sun                                    510 non-null    uint8  \n",
      " 24  weekday_Thu                                    510 non-null    uint8  \n",
      " 25  weekday_Tue                                    510 non-null    uint8  \n",
      " 26  weekday_Wed                                    510 non-null    uint8  \n",
      " 27  weathersit_Light Snow+Light Rain+Thunderstorm  510 non-null    uint8  \n",
      " 28  weathersit_Mist+Cloudy                         510 non-null    uint8  \n",
      "dtypes: float64(3), int64(4), uint8(22)\n",
      "memory usage: 42.8 KB\n"
     ]
    }
   ],
   "source": [
    "df_train.info()"
   ]
  },
  {
   "cell_type": "code",
   "execution_count": 35,
   "metadata": {},
   "outputs": [],
   "source": [
    "from sklearn.preprocessing import MinMaxScaler\n",
    "scaler = MinMaxScaler()"
   ]
  },
  {
   "cell_type": "code",
   "execution_count": 36,
   "metadata": {},
   "outputs": [
    {
     "data": {
      "text/html": [
       "<div>\n",
       "<style scoped>\n",
       "    .dataframe tbody tr th:only-of-type {\n",
       "        vertical-align: middle;\n",
       "    }\n",
       "\n",
       "    .dataframe tbody tr th {\n",
       "        vertical-align: top;\n",
       "    }\n",
       "\n",
       "    .dataframe thead th {\n",
       "        text-align: right;\n",
       "    }\n",
       "</style>\n",
       "<table border=\"1\" class=\"dataframe\">\n",
       "  <thead>\n",
       "    <tr style=\"text-align: right;\">\n",
       "      <th></th>\n",
       "      <th>yr</th>\n",
       "      <th>holiday</th>\n",
       "      <th>workingday</th>\n",
       "      <th>temp</th>\n",
       "      <th>hum</th>\n",
       "      <th>windspeed</th>\n",
       "      <th>cnt</th>\n",
       "      <th>season_Spring</th>\n",
       "      <th>season_Summer</th>\n",
       "      <th>season_Winter</th>\n",
       "      <th>...</th>\n",
       "      <th>mnth_Oct</th>\n",
       "      <th>mnth_Sept</th>\n",
       "      <th>weekday_Mon</th>\n",
       "      <th>weekday_Sat</th>\n",
       "      <th>weekday_Sun</th>\n",
       "      <th>weekday_Thu</th>\n",
       "      <th>weekday_Tue</th>\n",
       "      <th>weekday_Wed</th>\n",
       "      <th>weathersit_Light Snow+Light Rain+Thunderstorm</th>\n",
       "      <th>weathersit_Mist+Cloudy</th>\n",
       "    </tr>\n",
       "  </thead>\n",
       "  <tbody>\n",
       "    <tr>\n",
       "      <th>653</th>\n",
       "      <td>1</td>\n",
       "      <td>0</td>\n",
       "      <td>1</td>\n",
       "      <td>0.509887</td>\n",
       "      <td>0.575354</td>\n",
       "      <td>0.300794</td>\n",
       "      <td>0.864243</td>\n",
       "      <td>0</td>\n",
       "      <td>0</td>\n",
       "      <td>1</td>\n",
       "      <td>...</td>\n",
       "      <td>1</td>\n",
       "      <td>0</td>\n",
       "      <td>0</td>\n",
       "      <td>0</td>\n",
       "      <td>0</td>\n",
       "      <td>1</td>\n",
       "      <td>0</td>\n",
       "      <td>0</td>\n",
       "      <td>0</td>\n",
       "      <td>0</td>\n",
       "    </tr>\n",
       "    <tr>\n",
       "      <th>576</th>\n",
       "      <td>1</td>\n",
       "      <td>0</td>\n",
       "      <td>1</td>\n",
       "      <td>0.815169</td>\n",
       "      <td>0.725633</td>\n",
       "      <td>0.264686</td>\n",
       "      <td>0.827658</td>\n",
       "      <td>0</td>\n",
       "      <td>0</td>\n",
       "      <td>0</td>\n",
       "      <td>...</td>\n",
       "      <td>0</td>\n",
       "      <td>0</td>\n",
       "      <td>0</td>\n",
       "      <td>0</td>\n",
       "      <td>0</td>\n",
       "      <td>1</td>\n",
       "      <td>0</td>\n",
       "      <td>0</td>\n",
       "      <td>0</td>\n",
       "      <td>0</td>\n",
       "    </tr>\n",
       "    <tr>\n",
       "      <th>426</th>\n",
       "      <td>1</td>\n",
       "      <td>0</td>\n",
       "      <td>0</td>\n",
       "      <td>0.442393</td>\n",
       "      <td>0.640189</td>\n",
       "      <td>0.255342</td>\n",
       "      <td>0.465255</td>\n",
       "      <td>1</td>\n",
       "      <td>0</td>\n",
       "      <td>0</td>\n",
       "      <td>...</td>\n",
       "      <td>0</td>\n",
       "      <td>0</td>\n",
       "      <td>1</td>\n",
       "      <td>0</td>\n",
       "      <td>0</td>\n",
       "      <td>0</td>\n",
       "      <td>0</td>\n",
       "      <td>0</td>\n",
       "      <td>0</td>\n",
       "      <td>1</td>\n",
       "    </tr>\n",
       "    <tr>\n",
       "      <th>728</th>\n",
       "      <td>1</td>\n",
       "      <td>0</td>\n",
       "      <td>0</td>\n",
       "      <td>0.245101</td>\n",
       "      <td>0.498067</td>\n",
       "      <td>0.663106</td>\n",
       "      <td>0.204096</td>\n",
       "      <td>1</td>\n",
       "      <td>0</td>\n",
       "      <td>0</td>\n",
       "      <td>...</td>\n",
       "      <td>0</td>\n",
       "      <td>0</td>\n",
       "      <td>0</td>\n",
       "      <td>0</td>\n",
       "      <td>0</td>\n",
       "      <td>0</td>\n",
       "      <td>1</td>\n",
       "      <td>0</td>\n",
       "      <td>0</td>\n",
       "      <td>0</td>\n",
       "    </tr>\n",
       "    <tr>\n",
       "      <th>482</th>\n",
       "      <td>1</td>\n",
       "      <td>0</td>\n",
       "      <td>0</td>\n",
       "      <td>0.395666</td>\n",
       "      <td>0.504508</td>\n",
       "      <td>0.188475</td>\n",
       "      <td>0.482973</td>\n",
       "      <td>0</td>\n",
       "      <td>1</td>\n",
       "      <td>0</td>\n",
       "      <td>...</td>\n",
       "      <td>0</td>\n",
       "      <td>0</td>\n",
       "      <td>1</td>\n",
       "      <td>0</td>\n",
       "      <td>0</td>\n",
       "      <td>0</td>\n",
       "      <td>0</td>\n",
       "      <td>0</td>\n",
       "      <td>0</td>\n",
       "      <td>1</td>\n",
       "    </tr>\n",
       "  </tbody>\n",
       "</table>\n",
       "<p>5 rows × 29 columns</p>\n",
       "</div>"
      ],
      "text/plain": [
       "     yr  holiday  workingday      temp       hum  windspeed       cnt  \\\n",
       "653   1        0           1  0.509887  0.575354   0.300794  0.864243   \n",
       "576   1        0           1  0.815169  0.725633   0.264686  0.827658   \n",
       "426   1        0           0  0.442393  0.640189   0.255342  0.465255   \n",
       "728   1        0           0  0.245101  0.498067   0.663106  0.204096   \n",
       "482   1        0           0  0.395666  0.504508   0.188475  0.482973   \n",
       "\n",
       "     season_Spring  season_Summer  season_Winter  ...  mnth_Oct  mnth_Sept  \\\n",
       "653              0              0              1  ...         1          0   \n",
       "576              0              0              0  ...         0          0   \n",
       "426              1              0              0  ...         0          0   \n",
       "728              1              0              0  ...         0          0   \n",
       "482              0              1              0  ...         0          0   \n",
       "\n",
       "     weekday_Mon  weekday_Sat  weekday_Sun  weekday_Thu  weekday_Tue  \\\n",
       "653            0            0            0            1            0   \n",
       "576            0            0            0            1            0   \n",
       "426            1            0            0            0            0   \n",
       "728            0            0            0            0            1   \n",
       "482            1            0            0            0            0   \n",
       "\n",
       "     weekday_Wed  weathersit_Light Snow+Light Rain+Thunderstorm  \\\n",
       "653            0                                              0   \n",
       "576            0                                              0   \n",
       "426            0                                              0   \n",
       "728            0                                              0   \n",
       "482            0                                              0   \n",
       "\n",
       "     weathersit_Mist+Cloudy  \n",
       "653                       0  \n",
       "576                       0  \n",
       "426                       1  \n",
       "728                       0  \n",
       "482                       1  \n",
       "\n",
       "[5 rows x 29 columns]"
      ]
     },
     "execution_count": 36,
     "metadata": {},
     "output_type": "execute_result"
    }
   ],
   "source": [
    "# Apply scaler() to all the columns except the '0/1' and 'dummy' variables\n",
    "\n",
    "scaler_vars = ['temp','hum','windspeed','cnt']\n",
    "\n",
    "df_train[scaler_vars] = scaler.fit_transform(df_train[scaler_vars])\n",
    "\n",
    "df_train.head()"
   ]
  },
  {
   "cell_type": "code",
   "execution_count": 37,
   "metadata": {},
   "outputs": [],
   "source": [
    "# Dividing the train data to X and Y sets for model building\n",
    "\n",
    "y_train = df_train.pop('cnt')\n",
    "X_train = df_train"
   ]
  },
  {
   "cell_type": "code",
   "execution_count": 38,
   "metadata": {},
   "outputs": [
    {
     "data": {
      "text/plain": [
       "653    0.864243\n",
       "576    0.827658\n",
       "426    0.465255\n",
       "728    0.204096\n",
       "482    0.482973\n",
       "Name: cnt, dtype: float64"
      ]
     },
     "execution_count": 38,
     "metadata": {},
     "output_type": "execute_result"
    }
   ],
   "source": [
    "y_train.head()"
   ]
  },
  {
   "cell_type": "markdown",
   "metadata": {},
   "source": [
    "## RFE - Recursive Feature Elimination"
   ]
  },
  {
   "cell_type": "code",
   "execution_count": 39,
   "metadata": {},
   "outputs": [],
   "source": [
    "# Importing RFE and Linear Regression\n",
    "\n",
    "from sklearn.feature_selection import RFE\n",
    "from sklearn.linear_model import LinearRegression"
   ]
  },
  {
   "cell_type": "code",
   "execution_count": 40,
   "metadata": {},
   "outputs": [],
   "source": [
    "# Running RFE with the output number of the variable equal to 15\n",
    "lm = LinearRegression()\n",
    "lm.fit(X_train, y_train)\n",
    "\n",
    "rfe = RFE(lm, 15)             # running RFE\n",
    "rfe = rfe.fit(X_train, y_train)"
   ]
  },
  {
   "cell_type": "code",
   "execution_count": 41,
   "metadata": {},
   "outputs": [
    {
     "data": {
      "text/plain": [
       "[('yr', True, 1),\n",
       " ('holiday', True, 1),\n",
       " ('workingday', True, 1),\n",
       " ('temp', True, 1),\n",
       " ('hum', True, 1),\n",
       " ('windspeed', True, 1),\n",
       " ('season_Spring', True, 1),\n",
       " ('season_Summer', True, 1),\n",
       " ('season_Winter', True, 1),\n",
       " ('mnth_Aug', False, 7),\n",
       " ('mnth_Dec', False, 3),\n",
       " ('mnth_Feb', False, 4),\n",
       " ('mnth_Jan', True, 1),\n",
       " ('mnth_Jul', True, 1),\n",
       " ('mnth_Jun', False, 13),\n",
       " ('mnth_Mar', False, 14),\n",
       " ('mnth_May', False, 5),\n",
       " ('mnth_Nov', False, 2),\n",
       " ('mnth_Oct', False, 10),\n",
       " ('mnth_Sept', True, 1),\n",
       " ('weekday_Mon', True, 1),\n",
       " ('weekday_Sat', False, 12),\n",
       " ('weekday_Sun', False, 11),\n",
       " ('weekday_Thu', False, 9),\n",
       " ('weekday_Tue', False, 6),\n",
       " ('weekday_Wed', False, 8),\n",
       " ('weathersit_Light Snow+Light Rain+Thunderstorm', True, 1),\n",
       " ('weathersit_Mist+Cloudy', True, 1)]"
      ]
     },
     "execution_count": 41,
     "metadata": {},
     "output_type": "execute_result"
    }
   ],
   "source": [
    "list(zip(X_train.columns,rfe.support_,rfe.ranking_))"
   ]
  },
  {
   "cell_type": "code",
   "execution_count": 42,
   "metadata": {},
   "outputs": [
    {
     "data": {
      "text/plain": [
       "Index(['yr', 'holiday', 'workingday', 'temp', 'hum', 'windspeed',\n",
       "       'season_Spring', 'season_Summer', 'season_Winter', 'mnth_Jan',\n",
       "       'mnth_Jul', 'mnth_Sept', 'weekday_Mon',\n",
       "       'weathersit_Light Snow+Light Rain+Thunderstorm',\n",
       "       'weathersit_Mist+Cloudy'],\n",
       "      dtype='object')"
      ]
     },
     "execution_count": 42,
     "metadata": {},
     "output_type": "execute_result"
    }
   ],
   "source": [
    "col = X_train.columns[rfe.support_]\n",
    "col"
   ]
  },
  {
   "cell_type": "code",
   "execution_count": 43,
   "metadata": {},
   "outputs": [
    {
     "data": {
      "text/plain": [
       "Index(['mnth_Aug', 'mnth_Dec', 'mnth_Feb', 'mnth_Jun', 'mnth_Mar', 'mnth_May',\n",
       "       'mnth_Nov', 'mnth_Oct', 'weekday_Sat', 'weekday_Sun', 'weekday_Thu',\n",
       "       'weekday_Tue', 'weekday_Wed'],\n",
       "      dtype='object')"
      ]
     },
     "execution_count": 43,
     "metadata": {},
     "output_type": "execute_result"
    }
   ],
   "source": [
    "X_train.columns[~rfe.support_]"
   ]
  },
  {
   "cell_type": "markdown",
   "metadata": {},
   "source": [
    "## Building model using statsmodel, for the detailed statistics"
   ]
  },
  {
   "cell_type": "markdown",
   "metadata": {},
   "source": [
    "## Model 1"
   ]
  },
  {
   "cell_type": "code",
   "execution_count": 44,
   "metadata": {},
   "outputs": [],
   "source": [
    "# Creating X_train dataframe with RFE selected variables\n",
    "X_train_rfe = X_train[col]"
   ]
  },
  {
   "cell_type": "code",
   "execution_count": 45,
   "metadata": {},
   "outputs": [
    {
     "data": {
      "text/plain": [
       "Index(['yr', 'holiday', 'workingday', 'temp', 'hum', 'windspeed',\n",
       "       'season_Spring', 'season_Summer', 'season_Winter', 'mnth_Jan',\n",
       "       'mnth_Jul', 'mnth_Sept', 'weekday_Mon',\n",
       "       'weathersit_Light Snow+Light Rain+Thunderstorm',\n",
       "       'weathersit_Mist+Cloudy'],\n",
       "      dtype='object')"
      ]
     },
     "execution_count": 45,
     "metadata": {},
     "output_type": "execute_result"
    }
   ],
   "source": [
    "X_train_rfe.columns"
   ]
  },
  {
   "cell_type": "code",
   "execution_count": 46,
   "metadata": {},
   "outputs": [],
   "source": [
    "# Adding a constant variable \n",
    "import statsmodels.api as sm  \n",
    "X_train_rfe = sm.add_constant(X_train_rfe)"
   ]
  },
  {
   "cell_type": "code",
   "execution_count": 47,
   "metadata": {},
   "outputs": [],
   "source": [
    "# Running the linear model\n",
    "\n",
    "lm = sm.OLS(y_train,X_train_rfe).fit()\n"
   ]
  },
  {
   "cell_type": "code",
   "execution_count": 48,
   "metadata": {},
   "outputs": [
    {
     "name": "stdout",
     "output_type": "stream",
     "text": [
      "                            OLS Regression Results                            \n",
      "==============================================================================\n",
      "Dep. Variable:                    cnt   R-squared:                       0.849\n",
      "Model:                            OLS   Adj. R-squared:                  0.844\n",
      "Method:                 Least Squares   F-statistic:                     184.6\n",
      "Date:                Mon, 01 Feb 2021   Prob (F-statistic):          2.31e-191\n",
      "Time:                        13:33:06   Log-Likelihood:                 519.88\n",
      "No. Observations:                 510   AIC:                            -1008.\n",
      "Df Residuals:                     494   BIC:                            -940.0\n",
      "Df Model:                          15                                         \n",
      "Covariance Type:            nonrobust                                         \n",
      "=================================================================================================================\n",
      "                                                    coef    std err          t      P>|t|      [0.025      0.975]\n",
      "-----------------------------------------------------------------------------------------------------------------\n",
      "const                                             0.2510      0.036      6.949      0.000       0.180       0.322\n",
      "yr                                                0.2305      0.008     28.807      0.000       0.215       0.246\n",
      "holiday                                          -0.0585      0.027     -2.178      0.030      -0.111      -0.006\n",
      "workingday                                        0.0435      0.012      3.781      0.000       0.021       0.066\n",
      "temp                                              0.5098      0.034     14.851      0.000       0.442       0.577\n",
      "hum                                              -0.1547      0.037     -4.145      0.000      -0.228      -0.081\n",
      "windspeed                                        -0.1860      0.025     -7.301      0.000      -0.236      -0.136\n",
      "season_Spring                                    -0.0508      0.021     -2.461      0.014      -0.091      -0.010\n",
      "season_Summer                                     0.0497      0.015      3.346      0.001       0.020       0.079\n",
      "season_Winter                                     0.0944      0.017      5.479      0.000       0.061       0.128\n",
      "mnth_Jan                                         -0.0343      0.017     -1.980      0.048      -0.068      -0.000\n",
      "mnth_Jul                                         -0.0532      0.018     -2.947      0.003      -0.089      -0.018\n",
      "mnth_Sept                                         0.0812      0.016      4.934      0.000       0.049       0.114\n",
      "weekday_Mon                                       0.0537      0.014      3.707      0.000       0.025       0.082\n",
      "weathersit_Light Snow+Light Rain+Thunderstorm    -0.2488      0.026     -9.560      0.000      -0.300      -0.198\n",
      "weathersit_Mist+Cloudy                           -0.0578      0.010     -5.574      0.000      -0.078      -0.037\n",
      "==============================================================================\n",
      "Omnibus:                       66.344   Durbin-Watson:                   2.071\n",
      "Prob(Omnibus):                  0.000   Jarque-Bera (JB):              161.565\n",
      "Skew:                          -0.676   Prob(JB):                     8.25e-36\n",
      "Kurtosis:                       5.403   Cond. No.                         22.1\n",
      "==============================================================================\n",
      "\n",
      "Warnings:\n",
      "[1] Standard Errors assume that the covariance matrix of the errors is correctly specified.\n"
     ]
    }
   ],
   "source": [
    "#Let's see the summary of our linear model\n",
    "print(lm.summary())"
   ]
  },
  {
   "cell_type": "markdown",
   "metadata": {},
   "source": [
    "VIF to check for multicolleniarity"
   ]
  },
  {
   "cell_type": "code",
   "execution_count": 49,
   "metadata": {},
   "outputs": [
    {
     "data": {
      "text/plain": [
       "Index(['const', 'yr', 'holiday', 'workingday', 'temp', 'hum', 'windspeed',\n",
       "       'season_Spring', 'season_Summer', 'season_Winter', 'mnth_Jan',\n",
       "       'mnth_Jul', 'mnth_Sept', 'weekday_Mon',\n",
       "       'weathersit_Light Snow+Light Rain+Thunderstorm',\n",
       "       'weathersit_Mist+Cloudy'],\n",
       "      dtype='object')"
      ]
     },
     "execution_count": 49,
     "metadata": {},
     "output_type": "execute_result"
    }
   ],
   "source": [
    "X_train_rfe.columns"
   ]
  },
  {
   "cell_type": "code",
   "execution_count": 50,
   "metadata": {},
   "outputs": [],
   "source": [
    "# Dropping the constant\n",
    "\n",
    "X_train_rfe = X_train_rfe.drop(['const'], axis=1)"
   ]
  },
  {
   "cell_type": "code",
   "execution_count": 51,
   "metadata": {},
   "outputs": [
    {
     "data": {
      "text/html": [
       "<div>\n",
       "<style scoped>\n",
       "    .dataframe tbody tr th:only-of-type {\n",
       "        vertical-align: middle;\n",
       "    }\n",
       "\n",
       "    .dataframe tbody tr th {\n",
       "        vertical-align: top;\n",
       "    }\n",
       "\n",
       "    .dataframe thead th {\n",
       "        text-align: right;\n",
       "    }\n",
       "</style>\n",
       "<table border=\"1\" class=\"dataframe\">\n",
       "  <thead>\n",
       "    <tr style=\"text-align: right;\">\n",
       "      <th></th>\n",
       "      <th>Features</th>\n",
       "      <th>VIF</th>\n",
       "    </tr>\n",
       "  </thead>\n",
       "  <tbody>\n",
       "    <tr>\n",
       "      <th>4</th>\n",
       "      <td>hum</td>\n",
       "      <td>29.40</td>\n",
       "    </tr>\n",
       "    <tr>\n",
       "      <th>3</th>\n",
       "      <td>temp</td>\n",
       "      <td>17.77</td>\n",
       "    </tr>\n",
       "    <tr>\n",
       "      <th>2</th>\n",
       "      <td>workingday</td>\n",
       "      <td>5.31</td>\n",
       "    </tr>\n",
       "    <tr>\n",
       "      <th>5</th>\n",
       "      <td>windspeed</td>\n",
       "      <td>4.73</td>\n",
       "    </tr>\n",
       "    <tr>\n",
       "      <th>6</th>\n",
       "      <td>season_Spring</td>\n",
       "      <td>4.53</td>\n",
       "    </tr>\n",
       "    <tr>\n",
       "      <th>8</th>\n",
       "      <td>season_Winter</td>\n",
       "      <td>3.48</td>\n",
       "    </tr>\n",
       "    <tr>\n",
       "      <th>7</th>\n",
       "      <td>season_Summer</td>\n",
       "      <td>2.84</td>\n",
       "    </tr>\n",
       "    <tr>\n",
       "      <th>14</th>\n",
       "      <td>weathersit_Mist+Cloudy</td>\n",
       "      <td>2.29</td>\n",
       "    </tr>\n",
       "    <tr>\n",
       "      <th>0</th>\n",
       "      <td>yr</td>\n",
       "      <td>2.09</td>\n",
       "    </tr>\n",
       "    <tr>\n",
       "      <th>12</th>\n",
       "      <td>weekday_Mon</td>\n",
       "      <td>1.98</td>\n",
       "    </tr>\n",
       "    <tr>\n",
       "      <th>9</th>\n",
       "      <td>mnth_Jan</td>\n",
       "      <td>1.67</td>\n",
       "    </tr>\n",
       "    <tr>\n",
       "      <th>10</th>\n",
       "      <td>mnth_Jul</td>\n",
       "      <td>1.59</td>\n",
       "    </tr>\n",
       "    <tr>\n",
       "      <th>11</th>\n",
       "      <td>mnth_Sept</td>\n",
       "      <td>1.39</td>\n",
       "    </tr>\n",
       "    <tr>\n",
       "      <th>13</th>\n",
       "      <td>weathersit_Light Snow+Light Rain+Thunderstorm</td>\n",
       "      <td>1.25</td>\n",
       "    </tr>\n",
       "    <tr>\n",
       "      <th>1</th>\n",
       "      <td>holiday</td>\n",
       "      <td>1.18</td>\n",
       "    </tr>\n",
       "  </tbody>\n",
       "</table>\n",
       "</div>"
      ],
      "text/plain": [
       "                                         Features    VIF\n",
       "4                                             hum  29.40\n",
       "3                                            temp  17.77\n",
       "2                                      workingday   5.31\n",
       "5                                       windspeed   4.73\n",
       "6                                   season_Spring   4.53\n",
       "8                                   season_Winter   3.48\n",
       "7                                   season_Summer   2.84\n",
       "14                         weathersit_Mist+Cloudy   2.29\n",
       "0                                              yr   2.09\n",
       "12                                    weekday_Mon   1.98\n",
       "9                                        mnth_Jan   1.67\n",
       "10                                       mnth_Jul   1.59\n",
       "11                                      mnth_Sept   1.39\n",
       "13  weathersit_Light Snow+Light Rain+Thunderstorm   1.25\n",
       "1                                         holiday   1.18"
      ]
     },
     "execution_count": 51,
     "metadata": {},
     "output_type": "execute_result"
    }
   ],
   "source": [
    "# Calculate the VIFs for the new model\n",
    "from statsmodels.stats.outliers_influence import variance_inflation_factor\n",
    "\n",
    "vif = pd.DataFrame()\n",
    "X = X_train_rfe\n",
    "vif['Features'] = X.columns\n",
    "vif['VIF'] = [variance_inflation_factor(X.values, i) for i in range(X.shape[1])]\n",
    "vif['VIF'] = round(vif['VIF'], 2)\n",
    "vif = vif.sort_values(by = \"VIF\", ascending = False)\n",
    "vif"
   ]
  },
  {
   "cell_type": "markdown",
   "metadata": {},
   "source": [
    "###### By looking into the above model we have 0.048 P-value for 'mnth_Jan' and high VIF for hum and temp.\n",
    "\n",
    "\n",
    "\n",
    "###### Let's consider the highest p-value and drop it. "
   ]
  },
  {
   "cell_type": "markdown",
   "metadata": {},
   "source": [
    "## Model 2"
   ]
  },
  {
   "cell_type": "code",
   "execution_count": 52,
   "metadata": {},
   "outputs": [
    {
     "data": {
      "text/plain": [
       "Index(['yr', 'holiday', 'workingday', 'temp', 'hum', 'windspeed',\n",
       "       'season_Spring', 'season_Summer', 'season_Winter', 'mnth_Jan',\n",
       "       'mnth_Jul', 'mnth_Sept', 'weekday_Mon',\n",
       "       'weathersit_Light Snow+Light Rain+Thunderstorm',\n",
       "       'weathersit_Mist+Cloudy'],\n",
       "      dtype='object')"
      ]
     },
     "execution_count": 52,
     "metadata": {},
     "output_type": "execute_result"
    }
   ],
   "source": [
    "X_train_rfe.columns"
   ]
  },
  {
   "cell_type": "code",
   "execution_count": 53,
   "metadata": {},
   "outputs": [],
   "source": [
    "# Creating X_train dataframe with RFE selected variables\n",
    "\n",
    "X_train_model2 = X_train_rfe[col]"
   ]
  },
  {
   "cell_type": "code",
   "execution_count": 54,
   "metadata": {},
   "outputs": [
    {
     "data": {
      "text/plain": [
       "Index(['yr', 'holiday', 'workingday', 'temp', 'hum', 'windspeed',\n",
       "       'season_Spring', 'season_Summer', 'season_Winter', 'mnth_Jan',\n",
       "       'mnth_Jul', 'mnth_Sept', 'weekday_Mon',\n",
       "       'weathersit_Light Snow+Light Rain+Thunderstorm',\n",
       "       'weathersit_Mist+Cloudy'],\n",
       "      dtype='object')"
      ]
     },
     "execution_count": 54,
     "metadata": {},
     "output_type": "execute_result"
    }
   ],
   "source": [
    "X_train_model2.columns"
   ]
  },
  {
   "cell_type": "code",
   "execution_count": 55,
   "metadata": {},
   "outputs": [],
   "source": [
    "# 'mnth_Jan' has the highest P-value.\n",
    "\n",
    "# Dropping variable 'mnth_Jan'\n",
    "\n",
    "X_train_model2 = X_train_rfe.drop(['mnth_Jan'], axis=1)"
   ]
  },
  {
   "cell_type": "code",
   "execution_count": 56,
   "metadata": {},
   "outputs": [
    {
     "data": {
      "text/plain": [
       "Index(['yr', 'holiday', 'workingday', 'temp', 'hum', 'windspeed',\n",
       "       'season_Spring', 'season_Summer', 'season_Winter', 'mnth_Jul',\n",
       "       'mnth_Sept', 'weekday_Mon',\n",
       "       'weathersit_Light Snow+Light Rain+Thunderstorm',\n",
       "       'weathersit_Mist+Cloudy'],\n",
       "      dtype='object')"
      ]
     },
     "execution_count": 56,
     "metadata": {},
     "output_type": "execute_result"
    }
   ],
   "source": [
    "X_train_model2.columns"
   ]
  },
  {
   "cell_type": "code",
   "execution_count": 57,
   "metadata": {},
   "outputs": [],
   "source": [
    "# Rebuilding the model without 'mnth_Jan' variable\n",
    "\n",
    "# Adding a constant variable \n",
    "\n",
    "import statsmodels.api as sm  \n",
    "X_train_model2 = sm.add_constant(X_train_model2)\n"
   ]
  },
  {
   "cell_type": "code",
   "execution_count": 58,
   "metadata": {},
   "outputs": [
    {
     "data": {
      "text/plain": [
       "Index(['const', 'yr', 'holiday', 'workingday', 'temp', 'hum', 'windspeed',\n",
       "       'season_Spring', 'season_Summer', 'season_Winter', 'mnth_Jul',\n",
       "       'mnth_Sept', 'weekday_Mon',\n",
       "       'weathersit_Light Snow+Light Rain+Thunderstorm',\n",
       "       'weathersit_Mist+Cloudy'],\n",
       "      dtype='object')"
      ]
     },
     "execution_count": 58,
     "metadata": {},
     "output_type": "execute_result"
    }
   ],
   "source": [
    "X_train_model2.columns"
   ]
  },
  {
   "cell_type": "code",
   "execution_count": 59,
   "metadata": {},
   "outputs": [
    {
     "name": "stdout",
     "output_type": "stream",
     "text": [
      "                            OLS Regression Results                            \n",
      "==============================================================================\n",
      "Dep. Variable:                    cnt   R-squared:                       0.847\n",
      "Model:                            OLS   Adj. R-squared:                  0.843\n",
      "Method:                 Least Squares   F-statistic:                     196.3\n",
      "Date:                Mon, 01 Feb 2021   Prob (F-statistic):          1.13e-191\n",
      "Time:                        13:33:06   Log-Likelihood:                 517.87\n",
      "No. Observations:                 510   AIC:                            -1006.\n",
      "Df Residuals:                     495   BIC:                            -942.2\n",
      "Df Model:                          14                                         \n",
      "Covariance Type:            nonrobust                                         \n",
      "=================================================================================================================\n",
      "                                                    coef    std err          t      P>|t|      [0.025      0.975]\n",
      "-----------------------------------------------------------------------------------------------------------------\n",
      "const                                             0.2394      0.036      6.696      0.000       0.169       0.310\n",
      "yr                                                0.2297      0.008     28.660      0.000       0.214       0.245\n",
      "holiday                                          -0.0594      0.027     -2.206      0.028      -0.112      -0.006\n",
      "workingday                                        0.0432      0.012      3.744      0.000       0.021       0.066\n",
      "temp                                              0.5278      0.033     15.897      0.000       0.463       0.593\n",
      "hum                                              -0.1595      0.037     -4.268      0.000      -0.233      -0.086\n",
      "windspeed                                        -0.1806      0.025     -7.110      0.000      -0.231      -0.131\n",
      "season_Spring                                    -0.0554      0.021     -2.694      0.007      -0.096      -0.015\n",
      "season_Summer                                     0.0526      0.015      3.553      0.000       0.024       0.082\n",
      "season_Winter                                     0.1003      0.017      5.890      0.000       0.067       0.134\n",
      "mnth_Jul                                         -0.0549      0.018     -3.035      0.003      -0.090      -0.019\n",
      "mnth_Sept                                         0.0818      0.016      4.956      0.000       0.049       0.114\n",
      "weekday_Mon                                       0.0532      0.015      3.661      0.000       0.025       0.082\n",
      "weathersit_Light Snow+Light Rain+Thunderstorm    -0.2463      0.026     -9.449      0.000      -0.298      -0.195\n",
      "weathersit_Mist+Cloudy                           -0.0578      0.010     -5.559      0.000      -0.078      -0.037\n",
      "==============================================================================\n",
      "Omnibus:                       64.879   Durbin-Watson:                   2.065\n",
      "Prob(Omnibus):                  0.000   Jarque-Bera (JB):              158.454\n",
      "Skew:                          -0.661   Prob(JB):                     3.91e-35\n",
      "Kurtosis:                       5.390   Cond. No.                         21.8\n",
      "==============================================================================\n",
      "\n",
      "Warnings:\n",
      "[1] Standard Errors assume that the covariance matrix of the errors is correctly specified.\n"
     ]
    }
   ],
   "source": [
    "\n",
    "# Running linear model\n",
    "\n",
    "lm = sm.OLS(y_train,X_train_model2).fit()\n",
    "\n",
    "#Let's see the summary of our linear model\n",
    "\n",
    "print(lm.summary())"
   ]
  },
  {
   "cell_type": "markdown",
   "metadata": {},
   "source": [
    "### VIF for model 2 to check multicolleniarity"
   ]
  },
  {
   "cell_type": "code",
   "execution_count": 60,
   "metadata": {},
   "outputs": [],
   "source": [
    "# dropping the constant\n",
    "\n",
    "X_train_model2 = X_train_model2.drop(['const'], axis=1)"
   ]
  },
  {
   "cell_type": "code",
   "execution_count": 61,
   "metadata": {},
   "outputs": [
    {
     "data": {
      "text/plain": [
       "Index(['yr', 'holiday', 'workingday', 'temp', 'hum', 'windspeed',\n",
       "       'season_Spring', 'season_Summer', 'season_Winter', 'mnth_Jul',\n",
       "       'mnth_Sept', 'weekday_Mon',\n",
       "       'weathersit_Light Snow+Light Rain+Thunderstorm',\n",
       "       'weathersit_Mist+Cloudy'],\n",
       "      dtype='object')"
      ]
     },
     "execution_count": 61,
     "metadata": {},
     "output_type": "execute_result"
    }
   ],
   "source": [
    "X_train_model2.columns"
   ]
  },
  {
   "cell_type": "code",
   "execution_count": 62,
   "metadata": {},
   "outputs": [
    {
     "data": {
      "text/html": [
       "<div>\n",
       "<style scoped>\n",
       "    .dataframe tbody tr th:only-of-type {\n",
       "        vertical-align: middle;\n",
       "    }\n",
       "\n",
       "    .dataframe tbody tr th {\n",
       "        vertical-align: top;\n",
       "    }\n",
       "\n",
       "    .dataframe thead th {\n",
       "        text-align: right;\n",
       "    }\n",
       "</style>\n",
       "<table border=\"1\" class=\"dataframe\">\n",
       "  <thead>\n",
       "    <tr style=\"text-align: right;\">\n",
       "      <th></th>\n",
       "      <th>Features</th>\n",
       "      <th>VIF</th>\n",
       "    </tr>\n",
       "  </thead>\n",
       "  <tbody>\n",
       "    <tr>\n",
       "      <th>4</th>\n",
       "      <td>hum</td>\n",
       "      <td>28.49</td>\n",
       "    </tr>\n",
       "    <tr>\n",
       "      <th>3</th>\n",
       "      <td>temp</td>\n",
       "      <td>16.97</td>\n",
       "    </tr>\n",
       "    <tr>\n",
       "      <th>2</th>\n",
       "      <td>workingday</td>\n",
       "      <td>5.28</td>\n",
       "    </tr>\n",
       "    <tr>\n",
       "      <th>5</th>\n",
       "      <td>windspeed</td>\n",
       "      <td>4.72</td>\n",
       "    </tr>\n",
       "    <tr>\n",
       "      <th>6</th>\n",
       "      <td>season_Spring</td>\n",
       "      <td>4.24</td>\n",
       "    </tr>\n",
       "    <tr>\n",
       "      <th>8</th>\n",
       "      <td>season_Winter</td>\n",
       "      <td>3.44</td>\n",
       "    </tr>\n",
       "    <tr>\n",
       "      <th>7</th>\n",
       "      <td>season_Summer</td>\n",
       "      <td>2.83</td>\n",
       "    </tr>\n",
       "    <tr>\n",
       "      <th>13</th>\n",
       "      <td>weathersit_Mist+Cloudy</td>\n",
       "      <td>2.28</td>\n",
       "    </tr>\n",
       "    <tr>\n",
       "      <th>0</th>\n",
       "      <td>yr</td>\n",
       "      <td>2.08</td>\n",
       "    </tr>\n",
       "    <tr>\n",
       "      <th>11</th>\n",
       "      <td>weekday_Mon</td>\n",
       "      <td>1.97</td>\n",
       "    </tr>\n",
       "    <tr>\n",
       "      <th>9</th>\n",
       "      <td>mnth_Jul</td>\n",
       "      <td>1.58</td>\n",
       "    </tr>\n",
       "    <tr>\n",
       "      <th>10</th>\n",
       "      <td>mnth_Sept</td>\n",
       "      <td>1.39</td>\n",
       "    </tr>\n",
       "    <tr>\n",
       "      <th>12</th>\n",
       "      <td>weathersit_Light Snow+Light Rain+Thunderstorm</td>\n",
       "      <td>1.24</td>\n",
       "    </tr>\n",
       "    <tr>\n",
       "      <th>1</th>\n",
       "      <td>holiday</td>\n",
       "      <td>1.17</td>\n",
       "    </tr>\n",
       "  </tbody>\n",
       "</table>\n",
       "</div>"
      ],
      "text/plain": [
       "                                         Features    VIF\n",
       "4                                             hum  28.49\n",
       "3                                            temp  16.97\n",
       "2                                      workingday   5.28\n",
       "5                                       windspeed   4.72\n",
       "6                                   season_Spring   4.24\n",
       "8                                   season_Winter   3.44\n",
       "7                                   season_Summer   2.83\n",
       "13                         weathersit_Mist+Cloudy   2.28\n",
       "0                                              yr   2.08\n",
       "11                                    weekday_Mon   1.97\n",
       "9                                        mnth_Jul   1.58\n",
       "10                                      mnth_Sept   1.39\n",
       "12  weathersit_Light Snow+Light Rain+Thunderstorm   1.24\n",
       "1                                         holiday   1.17"
      ]
     },
     "execution_count": 62,
     "metadata": {},
     "output_type": "execute_result"
    }
   ],
   "source": [
    "# Calculate the VIFs for the new model\n",
    "from statsmodels.stats.outliers_influence import variance_inflation_factor\n",
    "\n",
    "vif = pd.DataFrame()\n",
    "X = X_train_model2\n",
    "vif['Features'] = X.columns\n",
    "vif['VIF'] = [variance_inflation_factor(X.values, i) for i in range(X.shape[1])]\n",
    "vif['VIF'] = round(vif['VIF'], 2)\n",
    "vif = vif.sort_values(by = \"VIF\", ascending = False)\n",
    "vif"
   ]
  },
  {
   "cell_type": "markdown",
   "metadata": {},
   "source": [
    "###### Fron the Model 2 summary, P-value for all the independent variables looks fine. But VIF is showing multicollinearity \n",
    "###### Lets drop the 'hum' which is showing the highest VIF from the above model"
   ]
  },
  {
   "cell_type": "markdown",
   "metadata": {},
   "source": [
    "## Model 3"
   ]
  },
  {
   "cell_type": "code",
   "execution_count": 63,
   "metadata": {},
   "outputs": [
    {
     "data": {
      "text/plain": [
       "Index(['yr', 'holiday', 'workingday', 'temp', 'hum', 'windspeed',\n",
       "       'season_Spring', 'season_Summer', 'season_Winter', 'mnth_Jul',\n",
       "       'mnth_Sept', 'weekday_Mon',\n",
       "       'weathersit_Light Snow+Light Rain+Thunderstorm',\n",
       "       'weathersit_Mist+Cloudy'],\n",
       "      dtype='object')"
      ]
     },
     "execution_count": 63,
     "metadata": {},
     "output_type": "execute_result"
    }
   ],
   "source": [
    "X_train_model2.columns"
   ]
  },
  {
   "cell_type": "code",
   "execution_count": 64,
   "metadata": {},
   "outputs": [],
   "source": [
    "# Creating X_train dataframe with model2 selected variables\n",
    "\n",
    "#Dropping 'hum' variable from the model\n",
    "\n",
    "X_train_model3 = X_train_model2.drop(['hum'], axis=1)"
   ]
  },
  {
   "cell_type": "code",
   "execution_count": 65,
   "metadata": {},
   "outputs": [
    {
     "data": {
      "text/plain": [
       "Index(['yr', 'holiday', 'workingday', 'temp', 'windspeed', 'season_Spring',\n",
       "       'season_Summer', 'season_Winter', 'mnth_Jul', 'mnth_Sept',\n",
       "       'weekday_Mon', 'weathersit_Light Snow+Light Rain+Thunderstorm',\n",
       "       'weathersit_Mist+Cloudy'],\n",
       "      dtype='object')"
      ]
     },
     "execution_count": 65,
     "metadata": {},
     "output_type": "execute_result"
    }
   ],
   "source": [
    "X_train_model3.columns"
   ]
  },
  {
   "cell_type": "code",
   "execution_count": 66,
   "metadata": {},
   "outputs": [],
   "source": [
    "# Rebuilding the model without hum variable\n",
    "\n",
    "# Adding a constant variable \n",
    "\n",
    "import statsmodels.api as sm  \n",
    "X_train_model3 = sm.add_constant(X_train_model3)"
   ]
  },
  {
   "cell_type": "code",
   "execution_count": 67,
   "metadata": {},
   "outputs": [
    {
     "data": {
      "text/plain": [
       "Index(['const', 'yr', 'holiday', 'workingday', 'temp', 'windspeed',\n",
       "       'season_Spring', 'season_Summer', 'season_Winter', 'mnth_Jul',\n",
       "       'mnth_Sept', 'weekday_Mon',\n",
       "       'weathersit_Light Snow+Light Rain+Thunderstorm',\n",
       "       'weathersit_Mist+Cloudy'],\n",
       "      dtype='object')"
      ]
     },
     "execution_count": 67,
     "metadata": {},
     "output_type": "execute_result"
    }
   ],
   "source": [
    "X_train_model3.columns"
   ]
  },
  {
   "cell_type": "code",
   "execution_count": 68,
   "metadata": {},
   "outputs": [
    {
     "name": "stdout",
     "output_type": "stream",
     "text": [
      "                            OLS Regression Results                            \n",
      "==============================================================================\n",
      "Dep. Variable:                    cnt   R-squared:                       0.842\n",
      "Model:                            OLS   Adj. R-squared:                  0.838\n",
      "Method:                 Least Squares   F-statistic:                     203.0\n",
      "Date:                Mon, 01 Feb 2021   Prob (F-statistic):          5.73e-189\n",
      "Time:                        13:33:06   Log-Likelihood:                 508.65\n",
      "No. Observations:                 510   AIC:                            -989.3\n",
      "Df Residuals:                     496   BIC:                            -930.0\n",
      "Df Model:                          13                                         \n",
      "Covariance Type:            nonrobust                                         \n",
      "=================================================================================================================\n",
      "                                                    coef    std err          t      P>|t|      [0.025      0.975]\n",
      "-----------------------------------------------------------------------------------------------------------------\n",
      "const                                             0.1577      0.031      5.134      0.000       0.097       0.218\n",
      "yr                                                0.2336      0.008     28.839      0.000       0.218       0.250\n",
      "holiday                                          -0.0571      0.027     -2.085      0.038      -0.111      -0.003\n",
      "workingday                                        0.0463      0.012      3.947      0.000       0.023       0.069\n",
      "temp                                              0.4920      0.033     15.056      0.000       0.428       0.556\n",
      "windspeed                                        -0.1491      0.025     -6.032      0.000      -0.198      -0.101\n",
      "season_Spring                                    -0.0653      0.021     -3.139      0.002      -0.106      -0.024\n",
      "season_Summer                                     0.0465      0.015      3.101      0.002       0.017       0.076\n",
      "season_Winter                                     0.0859      0.017      5.058      0.000       0.053       0.119\n",
      "mnth_Jul                                         -0.0500      0.018     -2.723      0.007      -0.086      -0.014\n",
      "mnth_Sept                                         0.0758      0.017      4.532      0.000       0.043       0.109\n",
      "weekday_Mon                                       0.0580      0.015      3.936      0.000       0.029       0.087\n",
      "weathersit_Light Snow+Light Rain+Thunderstorm    -0.2904      0.024    -11.931      0.000      -0.338      -0.243\n",
      "weathersit_Mist+Cloudy                           -0.0835      0.009     -9.669      0.000      -0.100      -0.067\n",
      "==============================================================================\n",
      "Omnibus:                       66.977   Durbin-Watson:                   2.059\n",
      "Prob(Omnibus):                  0.000   Jarque-Bera (JB):              163.728\n",
      "Skew:                          -0.681   Prob(JB):                     2.80e-36\n",
      "Kurtosis:                       5.419   Cond. No.                         19.5\n",
      "==============================================================================\n",
      "\n",
      "Warnings:\n",
      "[1] Standard Errors assume that the covariance matrix of the errors is correctly specified.\n"
     ]
    }
   ],
   "source": [
    "# Running linear model\n",
    "\n",
    "lm = sm.OLS(y_train,X_train_model3).fit()\n",
    "\n",
    "#Let's see the summary of our linear model\n",
    "\n",
    "print(lm.summary())"
   ]
  },
  {
   "cell_type": "markdown",
   "metadata": {},
   "source": [
    "### VIF for model 3 to check multicolleniarity"
   ]
  },
  {
   "cell_type": "code",
   "execution_count": 69,
   "metadata": {},
   "outputs": [],
   "source": [
    "# dropping the constant\n",
    "\n",
    "X_train_model3 = X_train_model3.drop(['const'], axis=1)"
   ]
  },
  {
   "cell_type": "code",
   "execution_count": 70,
   "metadata": {},
   "outputs": [
    {
     "data": {
      "text/plain": [
       "Index(['yr', 'holiday', 'workingday', 'temp', 'windspeed', 'season_Spring',\n",
       "       'season_Summer', 'season_Winter', 'mnth_Jul', 'mnth_Sept',\n",
       "       'weekday_Mon', 'weathersit_Light Snow+Light Rain+Thunderstorm',\n",
       "       'weathersit_Mist+Cloudy'],\n",
       "      dtype='object')"
      ]
     },
     "execution_count": 70,
     "metadata": {},
     "output_type": "execute_result"
    }
   ],
   "source": [
    "X_train_model3.columns"
   ]
  },
  {
   "cell_type": "code",
   "execution_count": 71,
   "metadata": {},
   "outputs": [
    {
     "data": {
      "text/html": [
       "<div>\n",
       "<style scoped>\n",
       "    .dataframe tbody tr th:only-of-type {\n",
       "        vertical-align: middle;\n",
       "    }\n",
       "\n",
       "    .dataframe tbody tr th {\n",
       "        vertical-align: top;\n",
       "    }\n",
       "\n",
       "    .dataframe thead th {\n",
       "        text-align: right;\n",
       "    }\n",
       "</style>\n",
       "<table border=\"1\" class=\"dataframe\">\n",
       "  <thead>\n",
       "    <tr style=\"text-align: right;\">\n",
       "      <th></th>\n",
       "      <th>Features</th>\n",
       "      <th>VIF</th>\n",
       "    </tr>\n",
       "  </thead>\n",
       "  <tbody>\n",
       "    <tr>\n",
       "      <th>3</th>\n",
       "      <td>temp</td>\n",
       "      <td>6.97</td>\n",
       "    </tr>\n",
       "    <tr>\n",
       "      <th>2</th>\n",
       "      <td>workingday</td>\n",
       "      <td>5.20</td>\n",
       "    </tr>\n",
       "    <tr>\n",
       "      <th>4</th>\n",
       "      <td>windspeed</td>\n",
       "      <td>4.65</td>\n",
       "    </tr>\n",
       "    <tr>\n",
       "      <th>5</th>\n",
       "      <td>season_Spring</td>\n",
       "      <td>2.49</td>\n",
       "    </tr>\n",
       "    <tr>\n",
       "      <th>6</th>\n",
       "      <td>season_Summer</td>\n",
       "      <td>2.32</td>\n",
       "    </tr>\n",
       "    <tr>\n",
       "      <th>0</th>\n",
       "      <td>yr</td>\n",
       "      <td>2.07</td>\n",
       "    </tr>\n",
       "    <tr>\n",
       "      <th>7</th>\n",
       "      <td>season_Winter</td>\n",
       "      <td>1.99</td>\n",
       "    </tr>\n",
       "    <tr>\n",
       "      <th>10</th>\n",
       "      <td>weekday_Mon</td>\n",
       "      <td>1.96</td>\n",
       "    </tr>\n",
       "    <tr>\n",
       "      <th>8</th>\n",
       "      <td>mnth_Jul</td>\n",
       "      <td>1.58</td>\n",
       "    </tr>\n",
       "    <tr>\n",
       "      <th>12</th>\n",
       "      <td>weathersit_Mist+Cloudy</td>\n",
       "      <td>1.56</td>\n",
       "    </tr>\n",
       "    <tr>\n",
       "      <th>9</th>\n",
       "      <td>mnth_Sept</td>\n",
       "      <td>1.35</td>\n",
       "    </tr>\n",
       "    <tr>\n",
       "      <th>1</th>\n",
       "      <td>holiday</td>\n",
       "      <td>1.17</td>\n",
       "    </tr>\n",
       "    <tr>\n",
       "      <th>11</th>\n",
       "      <td>weathersit_Light Snow+Light Rain+Thunderstorm</td>\n",
       "      <td>1.08</td>\n",
       "    </tr>\n",
       "  </tbody>\n",
       "</table>\n",
       "</div>"
      ],
      "text/plain": [
       "                                         Features   VIF\n",
       "3                                            temp  6.97\n",
       "2                                      workingday  5.20\n",
       "4                                       windspeed  4.65\n",
       "5                                   season_Spring  2.49\n",
       "6                                   season_Summer  2.32\n",
       "0                                              yr  2.07\n",
       "7                                   season_Winter  1.99\n",
       "10                                    weekday_Mon  1.96\n",
       "8                                        mnth_Jul  1.58\n",
       "12                         weathersit_Mist+Cloudy  1.56\n",
       "9                                       mnth_Sept  1.35\n",
       "1                                         holiday  1.17\n",
       "11  weathersit_Light Snow+Light Rain+Thunderstorm  1.08"
      ]
     },
     "execution_count": 71,
     "metadata": {},
     "output_type": "execute_result"
    }
   ],
   "source": [
    "# Calculate the VIFs for the new model\n",
    "from statsmodels.stats.outliers_influence import variance_inflation_factor\n",
    "\n",
    "vif = pd.DataFrame()\n",
    "X = X_train_model3\n",
    "vif['Features'] = X.columns\n",
    "vif['VIF'] = [variance_inflation_factor(X.values, i) for i in range(X.shape[1])]\n",
    "vif['VIF'] = round(vif['VIF'], 2)\n",
    "vif = vif.sort_values(by = \"VIF\", ascending = False)\n",
    "vif"
   ]
  },
  {
   "cell_type": "markdown",
   "metadata": {},
   "source": [
    "###### From the model 3 summary, the P-value of the independent variables looks fine. \n",
    "\n",
    "###### 'temp' showing the highest VIF, I am planning to retain it as it could be an important parameter\n",
    "\n",
    "###### Deleting the second highest VIF, which is 'workingday'"
   ]
  },
  {
   "cell_type": "markdown",
   "metadata": {},
   "source": [
    "## Model 4"
   ]
  },
  {
   "cell_type": "code",
   "execution_count": 72,
   "metadata": {},
   "outputs": [
    {
     "data": {
      "text/plain": [
       "Index(['yr', 'holiday', 'workingday', 'temp', 'windspeed', 'season_Spring',\n",
       "       'season_Summer', 'season_Winter', 'mnth_Jul', 'mnth_Sept',\n",
       "       'weekday_Mon', 'weathersit_Light Snow+Light Rain+Thunderstorm',\n",
       "       'weathersit_Mist+Cloudy'],\n",
       "      dtype='object')"
      ]
     },
     "execution_count": 72,
     "metadata": {},
     "output_type": "execute_result"
    }
   ],
   "source": [
    "X_train_model3.columns"
   ]
  },
  {
   "cell_type": "code",
   "execution_count": 73,
   "metadata": {},
   "outputs": [],
   "source": [
    "# Creating X_train dataframe with model3 selected variables\n",
    "\n",
    "#Dropping 'workingday' from model 3\n",
    "\n",
    "X_train_model4 = X_train_model3.drop(['workingday'], axis=1)"
   ]
  },
  {
   "cell_type": "code",
   "execution_count": 74,
   "metadata": {},
   "outputs": [
    {
     "data": {
      "text/plain": [
       "Index(['yr', 'holiday', 'temp', 'windspeed', 'season_Spring', 'season_Summer',\n",
       "       'season_Winter', 'mnth_Jul', 'mnth_Sept', 'weekday_Mon',\n",
       "       'weathersit_Light Snow+Light Rain+Thunderstorm',\n",
       "       'weathersit_Mist+Cloudy'],\n",
       "      dtype='object')"
      ]
     },
     "execution_count": 74,
     "metadata": {},
     "output_type": "execute_result"
    }
   ],
   "source": [
    "X_train_model4.columns"
   ]
  },
  {
   "cell_type": "code",
   "execution_count": 75,
   "metadata": {},
   "outputs": [],
   "source": [
    "# Rebuilding the model without workingday variable\n",
    "\n",
    "# Adding a constant variable \n",
    "\n",
    "import statsmodels.api as sm  \n",
    "X_train_model4 = sm.add_constant(X_train_model4)"
   ]
  },
  {
   "cell_type": "code",
   "execution_count": 76,
   "metadata": {},
   "outputs": [
    {
     "data": {
      "text/plain": [
       "Index(['const', 'yr', 'holiday', 'temp', 'windspeed', 'season_Spring',\n",
       "       'season_Summer', 'season_Winter', 'mnth_Jul', 'mnth_Sept',\n",
       "       'weekday_Mon', 'weathersit_Light Snow+Light Rain+Thunderstorm',\n",
       "       'weathersit_Mist+Cloudy'],\n",
       "      dtype='object')"
      ]
     },
     "execution_count": 76,
     "metadata": {},
     "output_type": "execute_result"
    }
   ],
   "source": [
    "X_train_model4.columns"
   ]
  },
  {
   "cell_type": "code",
   "execution_count": 77,
   "metadata": {},
   "outputs": [
    {
     "name": "stdout",
     "output_type": "stream",
     "text": [
      "                            OLS Regression Results                            \n",
      "==============================================================================\n",
      "Dep. Variable:                    cnt   R-squared:                       0.837\n",
      "Model:                            OLS   Adj. R-squared:                  0.833\n",
      "Method:                 Least Squares   F-statistic:                     212.4\n",
      "Date:                Mon, 01 Feb 2021   Prob (F-statistic):          7.97e-187\n",
      "Time:                        13:33:06   Log-Likelihood:                 500.76\n",
      "No. Observations:                 510   AIC:                            -975.5\n",
      "Df Residuals:                     497   BIC:                            -920.5\n",
      "Df Model:                          12                                         \n",
      "Covariance Type:            nonrobust                                         \n",
      "=================================================================================================================\n",
      "                                                    coef    std err          t      P>|t|      [0.025      0.975]\n",
      "-----------------------------------------------------------------------------------------------------------------\n",
      "const                                             0.1962      0.030      6.640      0.000       0.138       0.254\n",
      "yr                                                0.2339      0.008     28.461      0.000       0.218       0.250\n",
      "holiday                                          -0.0947      0.026     -3.630      0.000      -0.146      -0.043\n",
      "temp                                              0.4929      0.033     14.868      0.000       0.428       0.558\n",
      "windspeed                                        -0.1500      0.025     -5.981      0.000      -0.199      -0.101\n",
      "season_Spring                                    -0.0668      0.021     -3.166      0.002      -0.108      -0.025\n",
      "season_Summer                                     0.0456      0.015      2.997      0.003       0.016       0.075\n",
      "season_Winter                                     0.0830      0.017      4.822      0.000       0.049       0.117\n",
      "mnth_Jul                                         -0.0529      0.019     -2.842      0.005      -0.089      -0.016\n",
      "mnth_Sept                                         0.0765      0.017      4.509      0.000       0.043       0.110\n",
      "weekday_Mon                                       0.0199      0.011      1.762      0.079      -0.002       0.042\n",
      "weathersit_Light Snow+Light Rain+Thunderstorm    -0.2856      0.025    -11.579      0.000      -0.334      -0.237\n",
      "weathersit_Mist+Cloudy                           -0.0817      0.009     -9.334      0.000      -0.099      -0.064\n",
      "==============================================================================\n",
      "Omnibus:                       65.438   Durbin-Watson:                   2.041\n",
      "Prob(Omnibus):                  0.000   Jarque-Bera (JB):              142.042\n",
      "Skew:                          -0.706   Prob(JB):                     1.43e-31\n",
      "Kurtosis:                       5.166   Cond. No.                         17.4\n",
      "==============================================================================\n",
      "\n",
      "Warnings:\n",
      "[1] Standard Errors assume that the covariance matrix of the errors is correctly specified.\n"
     ]
    }
   ],
   "source": [
    "# Running linear model\n",
    "\n",
    "lm = sm.OLS(y_train,X_train_model4).fit()\n",
    "\n",
    "#Let's see the summary of our linear model\n",
    "\n",
    "print(lm.summary())"
   ]
  },
  {
   "cell_type": "markdown",
   "metadata": {},
   "source": [
    "## VIF for model 4 to check multicolleniarity"
   ]
  },
  {
   "cell_type": "code",
   "execution_count": 78,
   "metadata": {},
   "outputs": [],
   "source": [
    "# dropping the constant\n",
    "\n",
    "X_train_model4 = X_train_model4.drop(['const'], axis=1)"
   ]
  },
  {
   "cell_type": "code",
   "execution_count": 79,
   "metadata": {},
   "outputs": [
    {
     "data": {
      "text/plain": [
       "Index(['yr', 'holiday', 'temp', 'windspeed', 'season_Spring', 'season_Summer',\n",
       "       'season_Winter', 'mnth_Jul', 'mnth_Sept', 'weekday_Mon',\n",
       "       'weathersit_Light Snow+Light Rain+Thunderstorm',\n",
       "       'weathersit_Mist+Cloudy'],\n",
       "      dtype='object')"
      ]
     },
     "execution_count": 79,
     "metadata": {},
     "output_type": "execute_result"
    }
   ],
   "source": [
    "X_train_model4.columns"
   ]
  },
  {
   "cell_type": "code",
   "execution_count": 80,
   "metadata": {},
   "outputs": [
    {
     "data": {
      "text/html": [
       "<div>\n",
       "<style scoped>\n",
       "    .dataframe tbody tr th:only-of-type {\n",
       "        vertical-align: middle;\n",
       "    }\n",
       "\n",
       "    .dataframe tbody tr th {\n",
       "        vertical-align: top;\n",
       "    }\n",
       "\n",
       "    .dataframe thead th {\n",
       "        text-align: right;\n",
       "    }\n",
       "</style>\n",
       "<table border=\"1\" class=\"dataframe\">\n",
       "  <thead>\n",
       "    <tr style=\"text-align: right;\">\n",
       "      <th></th>\n",
       "      <th>Features</th>\n",
       "      <th>VIF</th>\n",
       "    </tr>\n",
       "  </thead>\n",
       "  <tbody>\n",
       "    <tr>\n",
       "      <th>2</th>\n",
       "      <td>temp</td>\n",
       "      <td>5.12</td>\n",
       "    </tr>\n",
       "    <tr>\n",
       "      <th>3</th>\n",
       "      <td>windspeed</td>\n",
       "      <td>4.62</td>\n",
       "    </tr>\n",
       "    <tr>\n",
       "      <th>5</th>\n",
       "      <td>season_Summer</td>\n",
       "      <td>2.22</td>\n",
       "    </tr>\n",
       "    <tr>\n",
       "      <th>4</th>\n",
       "      <td>season_Spring</td>\n",
       "      <td>2.10</td>\n",
       "    </tr>\n",
       "    <tr>\n",
       "      <th>0</th>\n",
       "      <td>yr</td>\n",
       "      <td>2.07</td>\n",
       "    </tr>\n",
       "    <tr>\n",
       "      <th>6</th>\n",
       "      <td>season_Winter</td>\n",
       "      <td>1.80</td>\n",
       "    </tr>\n",
       "    <tr>\n",
       "      <th>7</th>\n",
       "      <td>mnth_Jul</td>\n",
       "      <td>1.58</td>\n",
       "    </tr>\n",
       "    <tr>\n",
       "      <th>11</th>\n",
       "      <td>weathersit_Mist+Cloudy</td>\n",
       "      <td>1.55</td>\n",
       "    </tr>\n",
       "    <tr>\n",
       "      <th>8</th>\n",
       "      <td>mnth_Sept</td>\n",
       "      <td>1.34</td>\n",
       "    </tr>\n",
       "    <tr>\n",
       "      <th>9</th>\n",
       "      <td>weekday_Mon</td>\n",
       "      <td>1.19</td>\n",
       "    </tr>\n",
       "    <tr>\n",
       "      <th>10</th>\n",
       "      <td>weathersit_Light Snow+Light Rain+Thunderstorm</td>\n",
       "      <td>1.08</td>\n",
       "    </tr>\n",
       "    <tr>\n",
       "      <th>1</th>\n",
       "      <td>holiday</td>\n",
       "      <td>1.05</td>\n",
       "    </tr>\n",
       "  </tbody>\n",
       "</table>\n",
       "</div>"
      ],
      "text/plain": [
       "                                         Features   VIF\n",
       "2                                            temp  5.12\n",
       "3                                       windspeed  4.62\n",
       "5                                   season_Summer  2.22\n",
       "4                                   season_Spring  2.10\n",
       "0                                              yr  2.07\n",
       "6                                   season_Winter  1.80\n",
       "7                                        mnth_Jul  1.58\n",
       "11                         weathersit_Mist+Cloudy  1.55\n",
       "8                                       mnth_Sept  1.34\n",
       "9                                     weekday_Mon  1.19\n",
       "10  weathersit_Light Snow+Light Rain+Thunderstorm  1.08\n",
       "1                                         holiday  1.05"
      ]
     },
     "execution_count": 80,
     "metadata": {},
     "output_type": "execute_result"
    }
   ],
   "source": [
    "# Calculate the VIFs for the new model\n",
    "from statsmodels.stats.outliers_influence import variance_inflation_factor\n",
    "\n",
    "vif = pd.DataFrame()\n",
    "X = X_train_model4\n",
    "vif['Features'] = X.columns\n",
    "vif['VIF'] = [variance_inflation_factor(X.values, i) for i in range(X.shape[1])]\n",
    "vif['VIF'] = round(vif['VIF'], 2)\n",
    "vif = vif.sort_values(by = \"VIF\", ascending = False)\n",
    "vif"
   ]
  },
  {
   "cell_type": "markdown",
   "metadata": {},
   "source": [
    "###### From the model 4 summary, P-value of 'weekday_Mon' is higher 0.079\n",
    "\n",
    "###### Let's drop weekday_Mon and rebuild the model"
   ]
  },
  {
   "cell_type": "markdown",
   "metadata": {},
   "source": [
    "## Model 5"
   ]
  },
  {
   "cell_type": "code",
   "execution_count": 81,
   "metadata": {},
   "outputs": [
    {
     "data": {
      "text/plain": [
       "Index(['yr', 'holiday', 'temp', 'windspeed', 'season_Spring', 'season_Summer',\n",
       "       'season_Winter', 'mnth_Jul', 'mnth_Sept', 'weekday_Mon',\n",
       "       'weathersit_Light Snow+Light Rain+Thunderstorm',\n",
       "       'weathersit_Mist+Cloudy'],\n",
       "      dtype='object')"
      ]
     },
     "execution_count": 81,
     "metadata": {},
     "output_type": "execute_result"
    }
   ],
   "source": [
    "X_train_model4.columns"
   ]
  },
  {
   "cell_type": "code",
   "execution_count": 82,
   "metadata": {},
   "outputs": [],
   "source": [
    "\n",
    "# Creating X_train dataframe with RFE selected variables\n",
    "\n",
    "#Dropping 'weekday_Mon' from model 4\n",
    "\n",
    "X_train_model5 = X_train_model4.drop(['weekday_Mon'], axis=1)"
   ]
  },
  {
   "cell_type": "code",
   "execution_count": 83,
   "metadata": {},
   "outputs": [
    {
     "data": {
      "text/plain": [
       "Index(['yr', 'holiday', 'temp', 'windspeed', 'season_Spring', 'season_Summer',\n",
       "       'season_Winter', 'mnth_Jul', 'mnth_Sept',\n",
       "       'weathersit_Light Snow+Light Rain+Thunderstorm',\n",
       "       'weathersit_Mist+Cloudy'],\n",
       "      dtype='object')"
      ]
     },
     "execution_count": 83,
     "metadata": {},
     "output_type": "execute_result"
    }
   ],
   "source": [
    "X_train_model5.columns"
   ]
  },
  {
   "cell_type": "code",
   "execution_count": 84,
   "metadata": {},
   "outputs": [],
   "source": [
    "# Rebuilding the model without 'weekday_Mon' variable\n",
    "\n",
    "# Adding a constant variable \n",
    "\n",
    "import statsmodels.api as sm  \n",
    "X_train_model5 = sm.add_constant(X_train_model5)"
   ]
  },
  {
   "cell_type": "code",
   "execution_count": 85,
   "metadata": {},
   "outputs": [
    {
     "data": {
      "text/plain": [
       "Index(['const', 'yr', 'holiday', 'temp', 'windspeed', 'season_Spring',\n",
       "       'season_Summer', 'season_Winter', 'mnth_Jul', 'mnth_Sept',\n",
       "       'weathersit_Light Snow+Light Rain+Thunderstorm',\n",
       "       'weathersit_Mist+Cloudy'],\n",
       "      dtype='object')"
      ]
     },
     "execution_count": 85,
     "metadata": {},
     "output_type": "execute_result"
    }
   ],
   "source": [
    "X_train_model5.columns"
   ]
  },
  {
   "cell_type": "code",
   "execution_count": 86,
   "metadata": {},
   "outputs": [],
   "source": [
    "X_train_lm = X_train_model5"
   ]
  },
  {
   "cell_type": "code",
   "execution_count": 87,
   "metadata": {},
   "outputs": [
    {
     "name": "stdout",
     "output_type": "stream",
     "text": [
      "                            OLS Regression Results                            \n",
      "==============================================================================\n",
      "Dep. Variable:                    cnt   R-squared:                       0.836\n",
      "Model:                            OLS   Adj. R-squared:                  0.832\n",
      "Method:                 Least Squares   F-statistic:                     230.4\n",
      "Date:                Mon, 01 Feb 2021   Prob (F-statistic):          2.40e-187\n",
      "Time:                        13:33:06   Log-Likelihood:                 499.17\n",
      "No. Observations:                 510   AIC:                            -974.3\n",
      "Df Residuals:                     498   BIC:                            -923.5\n",
      "Df Model:                          11                                         \n",
      "Covariance Type:            nonrobust                                         \n",
      "=================================================================================================================\n",
      "                                                    coef    std err          t      P>|t|      [0.025      0.975]\n",
      "-----------------------------------------------------------------------------------------------------------------\n",
      "const                                             0.1996      0.030      6.758      0.000       0.142       0.258\n",
      "yr                                                0.2335      0.008     28.361      0.000       0.217       0.250\n",
      "holiday                                          -0.0980      0.026     -3.761      0.000      -0.149      -0.047\n",
      "temp                                              0.4915      0.033     14.798      0.000       0.426       0.557\n",
      "windspeed                                        -0.1480      0.025     -5.893      0.000      -0.197      -0.099\n",
      "season_Spring                                    -0.0669      0.021     -3.167      0.002      -0.108      -0.025\n",
      "season_Summer                                     0.0453      0.015      2.971      0.003       0.015       0.075\n",
      "season_Winter                                     0.0831      0.017      4.818      0.000       0.049       0.117\n",
      "mnth_Jul                                         -0.0524      0.019     -2.811      0.005      -0.089      -0.016\n",
      "mnth_Sept                                         0.0767      0.017      4.511      0.000       0.043       0.110\n",
      "weathersit_Light Snow+Light Rain+Thunderstorm    -0.2852      0.025    -11.536      0.000      -0.334      -0.237\n",
      "weathersit_Mist+Cloudy                           -0.0816      0.009     -9.301      0.000      -0.099      -0.064\n",
      "==============================================================================\n",
      "Omnibus:                       59.298   Durbin-Watson:                   2.041\n",
      "Prob(Omnibus):                  0.000   Jarque-Bera (JB):              135.189\n",
      "Skew:                          -0.628   Prob(JB):                     4.41e-30\n",
      "Kurtosis:                       5.187   Cond. No.                         17.3\n",
      "==============================================================================\n",
      "\n",
      "Warnings:\n",
      "[1] Standard Errors assume that the covariance matrix of the errors is correctly specified.\n"
     ]
    }
   ],
   "source": [
    "# Running linear model\n",
    "\n",
    "lm = sm.OLS(y_train,X_train_model5).fit()\n",
    "\n",
    "#Let's see the summary of our linear model\n",
    "\n",
    "print(lm.summary())"
   ]
  },
  {
   "cell_type": "markdown",
   "metadata": {},
   "source": [
    "## VIF for model 5 to check multicolleniarity"
   ]
  },
  {
   "cell_type": "code",
   "execution_count": 88,
   "metadata": {},
   "outputs": [],
   "source": [
    "# dropping the constant\n",
    "\n",
    "X_train_model5 = X_train_model5.drop(['const'], axis=1)"
   ]
  },
  {
   "cell_type": "code",
   "execution_count": 89,
   "metadata": {},
   "outputs": [
    {
     "data": {
      "text/plain": [
       "Index(['yr', 'holiday', 'temp', 'windspeed', 'season_Spring', 'season_Summer',\n",
       "       'season_Winter', 'mnth_Jul', 'mnth_Sept',\n",
       "       'weathersit_Light Snow+Light Rain+Thunderstorm',\n",
       "       'weathersit_Mist+Cloudy'],\n",
       "      dtype='object')"
      ]
     },
     "execution_count": 89,
     "metadata": {},
     "output_type": "execute_result"
    }
   ],
   "source": [
    "X_train_model5.columns"
   ]
  },
  {
   "cell_type": "code",
   "execution_count": 90,
   "metadata": {},
   "outputs": [
    {
     "data": {
      "text/html": [
       "<div>\n",
       "<style scoped>\n",
       "    .dataframe tbody tr th:only-of-type {\n",
       "        vertical-align: middle;\n",
       "    }\n",
       "\n",
       "    .dataframe tbody tr th {\n",
       "        vertical-align: top;\n",
       "    }\n",
       "\n",
       "    .dataframe thead th {\n",
       "        text-align: right;\n",
       "    }\n",
       "</style>\n",
       "<table border=\"1\" class=\"dataframe\">\n",
       "  <thead>\n",
       "    <tr style=\"text-align: right;\">\n",
       "      <th></th>\n",
       "      <th>Features</th>\n",
       "      <th>VIF</th>\n",
       "    </tr>\n",
       "  </thead>\n",
       "  <tbody>\n",
       "    <tr>\n",
       "      <th>2</th>\n",
       "      <td>temp</td>\n",
       "      <td>5.09</td>\n",
       "    </tr>\n",
       "    <tr>\n",
       "      <th>3</th>\n",
       "      <td>windspeed</td>\n",
       "      <td>4.60</td>\n",
       "    </tr>\n",
       "    <tr>\n",
       "      <th>5</th>\n",
       "      <td>season_Summer</td>\n",
       "      <td>2.21</td>\n",
       "    </tr>\n",
       "    <tr>\n",
       "      <th>4</th>\n",
       "      <td>season_Spring</td>\n",
       "      <td>2.08</td>\n",
       "    </tr>\n",
       "    <tr>\n",
       "      <th>0</th>\n",
       "      <td>yr</td>\n",
       "      <td>2.07</td>\n",
       "    </tr>\n",
       "    <tr>\n",
       "      <th>6</th>\n",
       "      <td>season_Winter</td>\n",
       "      <td>1.79</td>\n",
       "    </tr>\n",
       "    <tr>\n",
       "      <th>7</th>\n",
       "      <td>mnth_Jul</td>\n",
       "      <td>1.58</td>\n",
       "    </tr>\n",
       "    <tr>\n",
       "      <th>10</th>\n",
       "      <td>weathersit_Mist+Cloudy</td>\n",
       "      <td>1.55</td>\n",
       "    </tr>\n",
       "    <tr>\n",
       "      <th>8</th>\n",
       "      <td>mnth_Sept</td>\n",
       "      <td>1.34</td>\n",
       "    </tr>\n",
       "    <tr>\n",
       "      <th>9</th>\n",
       "      <td>weathersit_Light Snow+Light Rain+Thunderstorm</td>\n",
       "      <td>1.08</td>\n",
       "    </tr>\n",
       "    <tr>\n",
       "      <th>1</th>\n",
       "      <td>holiday</td>\n",
       "      <td>1.04</td>\n",
       "    </tr>\n",
       "  </tbody>\n",
       "</table>\n",
       "</div>"
      ],
      "text/plain": [
       "                                         Features   VIF\n",
       "2                                            temp  5.09\n",
       "3                                       windspeed  4.60\n",
       "5                                   season_Summer  2.21\n",
       "4                                   season_Spring  2.08\n",
       "0                                              yr  2.07\n",
       "6                                   season_Winter  1.79\n",
       "7                                        mnth_Jul  1.58\n",
       "10                         weathersit_Mist+Cloudy  1.55\n",
       "8                                       mnth_Sept  1.34\n",
       "9   weathersit_Light Snow+Light Rain+Thunderstorm  1.08\n",
       "1                                         holiday  1.04"
      ]
     },
     "execution_count": 90,
     "metadata": {},
     "output_type": "execute_result"
    }
   ],
   "source": [
    "# Calculate the VIFs for the new model\n",
    "from statsmodels.stats.outliers_influence import variance_inflation_factor\n",
    "\n",
    "vif = pd.DataFrame()\n",
    "X = X_train_model5\n",
    "vif['Features'] = X.columns\n",
    "vif['VIF'] = [variance_inflation_factor(X.values, i) for i in range(X.shape[1])]\n",
    "vif['VIF'] = round(vif['VIF'], 2)\n",
    "vif = vif.sort_values(by = \"VIF\", ascending = False)\n",
    "vif"
   ]
  },
  {
   "cell_type": "markdown",
   "metadata": {},
   "source": [
    "###### From model 5 summary, we can notice that the P-value for all the variables is less that 0.05.\n",
    "\n",
    "###### When we check for multicollinearity using VIF, 'temp' is showing the highest VIF. Dropping 'temp' there will be a decrease in Adj R-squared drastically. This model looks good."
   ]
  },
  {
   "cell_type": "markdown",
   "metadata": {},
   "source": [
    "###### Model looks good with 11 variables\n",
    "\n",
    "R-Squared = 83.6\n",
    "\n",
    "Adj. R-squared = 83.2\n",
    "\n",
    "Prob(F-Statistics) is approx zero\n",
    "\n",
    "P-values for all the variables is less than 0.05\n"
   ]
  },
  {
   "cell_type": "markdown",
   "metadata": {},
   "source": [
    "## Residual Analysis of the train data\n",
    "So, now to check if the error terms are also normally distributed (which is infact, one of the major assumptions of linear regression), let us plot the histogram of the error terms and see what it looks like."
   ]
  },
  {
   "cell_type": "code",
   "execution_count": 91,
   "metadata": {},
   "outputs": [
    {
     "data": {
      "text/html": [
       "<div>\n",
       "<style scoped>\n",
       "    .dataframe tbody tr th:only-of-type {\n",
       "        vertical-align: middle;\n",
       "    }\n",
       "\n",
       "    .dataframe tbody tr th {\n",
       "        vertical-align: top;\n",
       "    }\n",
       "\n",
       "    .dataframe thead th {\n",
       "        text-align: right;\n",
       "    }\n",
       "</style>\n",
       "<table border=\"1\" class=\"dataframe\">\n",
       "  <thead>\n",
       "    <tr style=\"text-align: right;\">\n",
       "      <th></th>\n",
       "      <th>const</th>\n",
       "      <th>yr</th>\n",
       "      <th>holiday</th>\n",
       "      <th>temp</th>\n",
       "      <th>windspeed</th>\n",
       "      <th>season_Spring</th>\n",
       "      <th>season_Summer</th>\n",
       "      <th>season_Winter</th>\n",
       "      <th>mnth_Jul</th>\n",
       "      <th>mnth_Sept</th>\n",
       "      <th>weathersit_Light Snow+Light Rain+Thunderstorm</th>\n",
       "      <th>weathersit_Mist+Cloudy</th>\n",
       "    </tr>\n",
       "  </thead>\n",
       "  <tbody>\n",
       "    <tr>\n",
       "      <th>count</th>\n",
       "      <td>510.0</td>\n",
       "      <td>510.000000</td>\n",
       "      <td>510.000000</td>\n",
       "      <td>510.000000</td>\n",
       "      <td>510.000000</td>\n",
       "      <td>510.000000</td>\n",
       "      <td>510.000000</td>\n",
       "      <td>510.00000</td>\n",
       "      <td>510.000000</td>\n",
       "      <td>510.000000</td>\n",
       "      <td>510.000000</td>\n",
       "      <td>510.000000</td>\n",
       "    </tr>\n",
       "    <tr>\n",
       "      <th>mean</th>\n",
       "      <td>1.0</td>\n",
       "      <td>0.507843</td>\n",
       "      <td>0.025490</td>\n",
       "      <td>0.537262</td>\n",
       "      <td>0.320768</td>\n",
       "      <td>0.243137</td>\n",
       "      <td>0.245098</td>\n",
       "      <td>0.24902</td>\n",
       "      <td>0.076471</td>\n",
       "      <td>0.080392</td>\n",
       "      <td>0.029412</td>\n",
       "      <td>0.343137</td>\n",
       "    </tr>\n",
       "    <tr>\n",
       "      <th>std</th>\n",
       "      <td>0.0</td>\n",
       "      <td>0.500429</td>\n",
       "      <td>0.157763</td>\n",
       "      <td>0.225844</td>\n",
       "      <td>0.169797</td>\n",
       "      <td>0.429398</td>\n",
       "      <td>0.430568</td>\n",
       "      <td>0.43287</td>\n",
       "      <td>0.266010</td>\n",
       "      <td>0.272166</td>\n",
       "      <td>0.169124</td>\n",
       "      <td>0.475223</td>\n",
       "    </tr>\n",
       "    <tr>\n",
       "      <th>min</th>\n",
       "      <td>1.0</td>\n",
       "      <td>0.000000</td>\n",
       "      <td>0.000000</td>\n",
       "      <td>0.000000</td>\n",
       "      <td>0.000000</td>\n",
       "      <td>0.000000</td>\n",
       "      <td>0.000000</td>\n",
       "      <td>0.00000</td>\n",
       "      <td>0.000000</td>\n",
       "      <td>0.000000</td>\n",
       "      <td>0.000000</td>\n",
       "      <td>0.000000</td>\n",
       "    </tr>\n",
       "    <tr>\n",
       "      <th>25%</th>\n",
       "      <td>1.0</td>\n",
       "      <td>0.000000</td>\n",
       "      <td>0.000000</td>\n",
       "      <td>0.339853</td>\n",
       "      <td>0.199179</td>\n",
       "      <td>0.000000</td>\n",
       "      <td>0.000000</td>\n",
       "      <td>0.00000</td>\n",
       "      <td>0.000000</td>\n",
       "      <td>0.000000</td>\n",
       "      <td>0.000000</td>\n",
       "      <td>0.000000</td>\n",
       "    </tr>\n",
       "    <tr>\n",
       "      <th>50%</th>\n",
       "      <td>1.0</td>\n",
       "      <td>1.000000</td>\n",
       "      <td>0.000000</td>\n",
       "      <td>0.540519</td>\n",
       "      <td>0.296763</td>\n",
       "      <td>0.000000</td>\n",
       "      <td>0.000000</td>\n",
       "      <td>0.00000</td>\n",
       "      <td>0.000000</td>\n",
       "      <td>0.000000</td>\n",
       "      <td>0.000000</td>\n",
       "      <td>0.000000</td>\n",
       "    </tr>\n",
       "    <tr>\n",
       "      <th>75%</th>\n",
       "      <td>1.0</td>\n",
       "      <td>1.000000</td>\n",
       "      <td>0.000000</td>\n",
       "      <td>0.735215</td>\n",
       "      <td>0.414447</td>\n",
       "      <td>0.000000</td>\n",
       "      <td>0.000000</td>\n",
       "      <td>0.00000</td>\n",
       "      <td>0.000000</td>\n",
       "      <td>0.000000</td>\n",
       "      <td>0.000000</td>\n",
       "      <td>1.000000</td>\n",
       "    </tr>\n",
       "    <tr>\n",
       "      <th>max</th>\n",
       "      <td>1.0</td>\n",
       "      <td>1.000000</td>\n",
       "      <td>1.000000</td>\n",
       "      <td>1.000000</td>\n",
       "      <td>1.000000</td>\n",
       "      <td>1.000000</td>\n",
       "      <td>1.000000</td>\n",
       "      <td>1.00000</td>\n",
       "      <td>1.000000</td>\n",
       "      <td>1.000000</td>\n",
       "      <td>1.000000</td>\n",
       "      <td>1.000000</td>\n",
       "    </tr>\n",
       "  </tbody>\n",
       "</table>\n",
       "</div>"
      ],
      "text/plain": [
       "       const          yr     holiday        temp   windspeed  season_Spring  \\\n",
       "count  510.0  510.000000  510.000000  510.000000  510.000000     510.000000   \n",
       "mean     1.0    0.507843    0.025490    0.537262    0.320768       0.243137   \n",
       "std      0.0    0.500429    0.157763    0.225844    0.169797       0.429398   \n",
       "min      1.0    0.000000    0.000000    0.000000    0.000000       0.000000   \n",
       "25%      1.0    0.000000    0.000000    0.339853    0.199179       0.000000   \n",
       "50%      1.0    1.000000    0.000000    0.540519    0.296763       0.000000   \n",
       "75%      1.0    1.000000    0.000000    0.735215    0.414447       0.000000   \n",
       "max      1.0    1.000000    1.000000    1.000000    1.000000       1.000000   \n",
       "\n",
       "       season_Summer  season_Winter    mnth_Jul   mnth_Sept  \\\n",
       "count     510.000000      510.00000  510.000000  510.000000   \n",
       "mean        0.245098        0.24902    0.076471    0.080392   \n",
       "std         0.430568        0.43287    0.266010    0.272166   \n",
       "min         0.000000        0.00000    0.000000    0.000000   \n",
       "25%         0.000000        0.00000    0.000000    0.000000   \n",
       "50%         0.000000        0.00000    0.000000    0.000000   \n",
       "75%         0.000000        0.00000    0.000000    0.000000   \n",
       "max         1.000000        1.00000    1.000000    1.000000   \n",
       "\n",
       "       weathersit_Light Snow+Light Rain+Thunderstorm  weathersit_Mist+Cloudy  \n",
       "count                                     510.000000              510.000000  \n",
       "mean                                        0.029412                0.343137  \n",
       "std                                         0.169124                0.475223  \n",
       "min                                         0.000000                0.000000  \n",
       "25%                                         0.000000                0.000000  \n",
       "50%                                         0.000000                0.000000  \n",
       "75%                                         0.000000                1.000000  \n",
       "max                                         1.000000                1.000000  "
      ]
     },
     "execution_count": 91,
     "metadata": {},
     "output_type": "execute_result"
    }
   ],
   "source": [
    "X_train_lm.describe()"
   ]
  },
  {
   "cell_type": "code",
   "execution_count": 92,
   "metadata": {},
   "outputs": [],
   "source": [
    "y_train_cnt = lm.predict(X_train_lm)"
   ]
  },
  {
   "cell_type": "code",
   "execution_count": 93,
   "metadata": {},
   "outputs": [],
   "source": [
    "# Importing the required libraries for plots.\n",
    "import matplotlib.pyplot as plt\n",
    "import seaborn as sns\n",
    "%matplotlib inline"
   ]
  },
  {
   "cell_type": "code",
   "execution_count": 94,
   "metadata": {},
   "outputs": [
    {
     "data": {
      "text/plain": [
       "Text(0.5, 0, 'Errors')"
      ]
     },
     "execution_count": 94,
     "metadata": {},
     "output_type": "execute_result"
    },
    {
     "data": {
      "image/png": "[encoded data removed]",
      "text/plain": [
       "<Figure size 432x288 with 1 Axes>"
      ]
     },
     "metadata": {
      "needs_background": "light"
     },
     "output_type": "display_data"
    }
   ],
   "source": [
    "# Plot the histogram of the error terms\n",
    "fig = plt.figure()\n",
    "sns.distplot((y_train - y_train_cnt), bins = 20)\n",
    "fig.suptitle('Error Terms', fontsize = 20)                  # Plot heading \n",
    "plt.xlabel('Errors', fontsize = 18)   "
   ]
  },
  {
   "cell_type": "markdown",
   "metadata": {},
   "source": [
    "Error terms seems to be normally distributed with mean equals to zero, so the assumption on the linear modelling seems to be fulfilled"
   ]
  },
  {
   "cell_type": "code",
   "execution_count": 95,
   "metadata": {},
   "outputs": [
    {
     "data": {
      "text/plain": [
       "(510, 12)"
      ]
     },
     "execution_count": 95,
     "metadata": {},
     "output_type": "execute_result"
    }
   ],
   "source": [
    "X_train_lm.shape"
   ]
  },
  {
   "cell_type": "code",
   "execution_count": 96,
   "metadata": {},
   "outputs": [
    {
     "data": {
      "text/plain": [
       "Index(['const', 'yr', 'holiday', 'temp', 'windspeed', 'season_Spring',\n",
       "       'season_Summer', 'season_Winter', 'mnth_Jul', 'mnth_Sept',\n",
       "       'weathersit_Light Snow+Light Rain+Thunderstorm',\n",
       "       'weathersit_Mist+Cloudy'],\n",
       "      dtype='object')"
      ]
     },
     "execution_count": 96,
     "metadata": {},
     "output_type": "execute_result"
    }
   ],
   "source": [
    "X_train_lm.columns"
   ]
  },
  {
   "cell_type": "markdown",
   "metadata": {},
   "source": [
    "##### Checking for homoscedasticity"
   ]
  },
  {
   "cell_type": "code",
   "execution_count": 97,
   "metadata": {},
   "outputs": [
    {
     "data": {
      "image/png": "[encoded data removed]",
      "text/plain": [
       "<Figure size 432x288 with 1 Axes>"
      ]
     },
     "metadata": {
      "needs_background": "light"
     },
     "output_type": "display_data"
    }
   ],
   "source": [
    "sns.scatterplot(y_train,(y_train - y_train_cnt))\n",
    "plt.xlabel('Count')\n",
    "plt.ylabel('Residual')\n",
    "plt.show()"
   ]
  },
  {
   "cell_type": "markdown",
   "metadata": {},
   "source": [
    "Here error terms is the same across all values of the independent variables"
   ]
  },
  {
   "cell_type": "code",
   "execution_count": 98,
   "metadata": {},
   "outputs": [
    {
     "name": "stdout",
     "output_type": "stream",
     "text": [
      "                            OLS Regression Results                            \n",
      "==============================================================================\n",
      "Dep. Variable:                    cnt   R-squared:                       0.836\n",
      "Model:                            OLS   Adj. R-squared:                  0.832\n",
      "Method:                 Least Squares   F-statistic:                     230.4\n",
      "Date:                Mon, 01 Feb 2021   Prob (F-statistic):          2.40e-187\n",
      "Time:                        13:33:07   Log-Likelihood:                 499.17\n",
      "No. Observations:                 510   AIC:                            -974.3\n",
      "Df Residuals:                     498   BIC:                            -923.5\n",
      "Df Model:                          11                                         \n",
      "Covariance Type:            nonrobust                                         \n",
      "=================================================================================================================\n",
      "                                                    coef    std err          t      P>|t|      [0.025      0.975]\n",
      "-----------------------------------------------------------------------------------------------------------------\n",
      "const                                             0.1996      0.030      6.758      0.000       0.142       0.258\n",
      "yr                                                0.2335      0.008     28.361      0.000       0.217       0.250\n",
      "holiday                                          -0.0980      0.026     -3.761      0.000      -0.149      -0.047\n",
      "temp                                              0.4915      0.033     14.798      0.000       0.426       0.557\n",
      "windspeed                                        -0.1480      0.025     -5.893      0.000      -0.197      -0.099\n",
      "season_Spring                                    -0.0669      0.021     -3.167      0.002      -0.108      -0.025\n",
      "season_Summer                                     0.0453      0.015      2.971      0.003       0.015       0.075\n",
      "season_Winter                                     0.0831      0.017      4.818      0.000       0.049       0.117\n",
      "mnth_Jul                                         -0.0524      0.019     -2.811      0.005      -0.089      -0.016\n",
      "mnth_Sept                                         0.0767      0.017      4.511      0.000       0.043       0.110\n",
      "weathersit_Light Snow+Light Rain+Thunderstorm    -0.2852      0.025    -11.536      0.000      -0.334      -0.237\n",
      "weathersit_Mist+Cloudy                           -0.0816      0.009     -9.301      0.000      -0.099      -0.064\n",
      "==============================================================================\n",
      "Omnibus:                       59.298   Durbin-Watson:                   2.041\n",
      "Prob(Omnibus):                  0.000   Jarque-Bera (JB):              135.189\n",
      "Skew:                          -0.628   Prob(JB):                     4.41e-30\n",
      "Kurtosis:                       5.187   Cond. No.                         17.3\n",
      "==============================================================================\n",
      "\n",
      "Warnings:\n",
      "[1] Standard Errors assume that the covariance matrix of the errors is correctly specified.\n"
     ]
    }
   ],
   "source": [
    "print(lm.summary())"
   ]
  },
  {
   "cell_type": "code",
   "execution_count": 99,
   "metadata": {},
   "outputs": [
    {
     "data": {
      "image/png": "[encoded data removed]",
      "text/plain": [
       "<Figure size 1080x576 with 2 Axes>"
      ]
     },
     "metadata": {
      "needs_background": "light"
     },
     "output_type": "display_data"
    }
   ],
   "source": [
    "# Validating Multi Colinearity < 0.5\n",
    "plt.figure(figsize=(15,8))\n",
    "sns.heatmap(X_train_model5.corr(),annot=True, cmap='YlGnBu')\n",
    "plt.show()"
   ]
  },
  {
   "cell_type": "markdown",
   "metadata": {},
   "source": [
    "## Making Predictions\n",
    "### Aplying scaling on test datasets"
   ]
  },
  {
   "cell_type": "code",
   "execution_count": 100,
   "metadata": {},
   "outputs": [
    {
     "data": {
      "text/html": [
       "<div>\n",
       "<style scoped>\n",
       "    .dataframe tbody tr th:only-of-type {\n",
       "        vertical-align: middle;\n",
       "    }\n",
       "\n",
       "    .dataframe tbody tr th {\n",
       "        vertical-align: top;\n",
       "    }\n",
       "\n",
       "    .dataframe thead th {\n",
       "        text-align: right;\n",
       "    }\n",
       "</style>\n",
       "<table border=\"1\" class=\"dataframe\">\n",
       "  <thead>\n",
       "    <tr style=\"text-align: right;\">\n",
       "      <th></th>\n",
       "      <th>yr</th>\n",
       "      <th>holiday</th>\n",
       "      <th>workingday</th>\n",
       "      <th>temp</th>\n",
       "      <th>hum</th>\n",
       "      <th>windspeed</th>\n",
       "      <th>cnt</th>\n",
       "      <th>season_Spring</th>\n",
       "      <th>season_Summer</th>\n",
       "      <th>season_Winter</th>\n",
       "      <th>...</th>\n",
       "      <th>mnth_Oct</th>\n",
       "      <th>mnth_Sept</th>\n",
       "      <th>weekday_Mon</th>\n",
       "      <th>weekday_Sat</th>\n",
       "      <th>weekday_Sun</th>\n",
       "      <th>weekday_Thu</th>\n",
       "      <th>weekday_Tue</th>\n",
       "      <th>weekday_Wed</th>\n",
       "      <th>weathersit_Light Snow+Light Rain+Thunderstorm</th>\n",
       "      <th>weathersit_Mist+Cloudy</th>\n",
       "    </tr>\n",
       "  </thead>\n",
       "  <tbody>\n",
       "    <tr>\n",
       "      <th>184</th>\n",
       "      <td>0</td>\n",
       "      <td>1</td>\n",
       "      <td>0</td>\n",
       "      <td>0.831783</td>\n",
       "      <td>0.657364</td>\n",
       "      <td>0.084219</td>\n",
       "      <td>0.692706</td>\n",
       "      <td>0</td>\n",
       "      <td>0</td>\n",
       "      <td>0</td>\n",
       "      <td>...</td>\n",
       "      <td>0</td>\n",
       "      <td>0</td>\n",
       "      <td>0</td>\n",
       "      <td>0</td>\n",
       "      <td>0</td>\n",
       "      <td>0</td>\n",
       "      <td>0</td>\n",
       "      <td>1</td>\n",
       "      <td>0</td>\n",
       "      <td>1</td>\n",
       "    </tr>\n",
       "    <tr>\n",
       "      <th>535</th>\n",
       "      <td>1</td>\n",
       "      <td>0</td>\n",
       "      <td>1</td>\n",
       "      <td>0.901354</td>\n",
       "      <td>0.610133</td>\n",
       "      <td>0.153728</td>\n",
       "      <td>0.712034</td>\n",
       "      <td>0</td>\n",
       "      <td>1</td>\n",
       "      <td>0</td>\n",
       "      <td>...</td>\n",
       "      <td>0</td>\n",
       "      <td>0</td>\n",
       "      <td>0</td>\n",
       "      <td>0</td>\n",
       "      <td>0</td>\n",
       "      <td>0</td>\n",
       "      <td>0</td>\n",
       "      <td>0</td>\n",
       "      <td>0</td>\n",
       "      <td>0</td>\n",
       "    </tr>\n",
       "    <tr>\n",
       "      <th>299</th>\n",
       "      <td>0</td>\n",
       "      <td>0</td>\n",
       "      <td>1</td>\n",
       "      <td>0.511964</td>\n",
       "      <td>0.837699</td>\n",
       "      <td>0.334206</td>\n",
       "      <td>0.303382</td>\n",
       "      <td>0</td>\n",
       "      <td>0</td>\n",
       "      <td>1</td>\n",
       "      <td>...</td>\n",
       "      <td>1</td>\n",
       "      <td>0</td>\n",
       "      <td>0</td>\n",
       "      <td>1</td>\n",
       "      <td>0</td>\n",
       "      <td>0</td>\n",
       "      <td>0</td>\n",
       "      <td>0</td>\n",
       "      <td>0</td>\n",
       "      <td>1</td>\n",
       "    </tr>\n",
       "    <tr>\n",
       "      <th>221</th>\n",
       "      <td>0</td>\n",
       "      <td>0</td>\n",
       "      <td>1</td>\n",
       "      <td>0.881625</td>\n",
       "      <td>0.437098</td>\n",
       "      <td>0.339570</td>\n",
       "      <td>0.547400</td>\n",
       "      <td>0</td>\n",
       "      <td>0</td>\n",
       "      <td>0</td>\n",
       "      <td>...</td>\n",
       "      <td>0</td>\n",
       "      <td>0</td>\n",
       "      <td>0</td>\n",
       "      <td>0</td>\n",
       "      <td>0</td>\n",
       "      <td>0</td>\n",
       "      <td>0</td>\n",
       "      <td>0</td>\n",
       "      <td>0</td>\n",
       "      <td>0</td>\n",
       "    </tr>\n",
       "    <tr>\n",
       "      <th>152</th>\n",
       "      <td>0</td>\n",
       "      <td>0</td>\n",
       "      <td>1</td>\n",
       "      <td>0.817246</td>\n",
       "      <td>0.314298</td>\n",
       "      <td>0.537414</td>\n",
       "      <td>0.569029</td>\n",
       "      <td>0</td>\n",
       "      <td>1</td>\n",
       "      <td>0</td>\n",
       "      <td>...</td>\n",
       "      <td>0</td>\n",
       "      <td>0</td>\n",
       "      <td>0</td>\n",
       "      <td>1</td>\n",
       "      <td>0</td>\n",
       "      <td>0</td>\n",
       "      <td>0</td>\n",
       "      <td>0</td>\n",
       "      <td>0</td>\n",
       "      <td>0</td>\n",
       "    </tr>\n",
       "  </tbody>\n",
       "</table>\n",
       "<p>5 rows × 29 columns</p>\n",
       "</div>"
      ],
      "text/plain": [
       "     yr  holiday  workingday      temp       hum  windspeed       cnt  \\\n",
       "184   0        1           0  0.831783  0.657364   0.084219  0.692706   \n",
       "535   1        0           1  0.901354  0.610133   0.153728  0.712034   \n",
       "299   0        0           1  0.511964  0.837699   0.334206  0.303382   \n",
       "221   0        0           1  0.881625  0.437098   0.339570  0.547400   \n",
       "152   0        0           1  0.817246  0.314298   0.537414  0.569029   \n",
       "\n",
       "     season_Spring  season_Summer  season_Winter  ...  mnth_Oct  mnth_Sept  \\\n",
       "184              0              0              0  ...         0          0   \n",
       "535              0              1              0  ...         0          0   \n",
       "299              0              0              1  ...         1          0   \n",
       "221              0              0              0  ...         0          0   \n",
       "152              0              1              0  ...         0          0   \n",
       "\n",
       "     weekday_Mon  weekday_Sat  weekday_Sun  weekday_Thu  weekday_Tue  \\\n",
       "184            0            0            0            0            0   \n",
       "535            0            0            0            0            0   \n",
       "299            0            1            0            0            0   \n",
       "221            0            0            0            0            0   \n",
       "152            0            1            0            0            0   \n",
       "\n",
       "     weekday_Wed  weathersit_Light Snow+Light Rain+Thunderstorm  \\\n",
       "184            1                                              0   \n",
       "535            0                                              0   \n",
       "299            0                                              0   \n",
       "221            0                                              0   \n",
       "152            0                                              0   \n",
       "\n",
       "     weathersit_Mist+Cloudy  \n",
       "184                       1  \n",
       "535                       0  \n",
       "299                       1  \n",
       "221                       0  \n",
       "152                       0  \n",
       "\n",
       "[5 rows x 29 columns]"
      ]
     },
     "execution_count": 100,
     "metadata": {},
     "output_type": "execute_result"
    }
   ],
   "source": [
    "scaler_vars = ['temp','hum','windspeed','cnt']\n",
    "\n",
    "df_test[scaler_vars] = scaler.transform(df_test[scaler_vars])\n",
    "\n",
    "df_test.head()"
   ]
  },
  {
   "cell_type": "markdown",
   "metadata": {},
   "source": [
    "## Dividing df_test to X_test and y_test"
   ]
  },
  {
   "cell_type": "code",
   "execution_count": 101,
   "metadata": {},
   "outputs": [],
   "source": [
    "y_test = df_test.pop('cnt')\n",
    "X_test = df_test"
   ]
  },
  {
   "cell_type": "code",
   "execution_count": 102,
   "metadata": {},
   "outputs": [
    {
     "data": {
      "text/html": [
       "<div>\n",
       "<style scoped>\n",
       "    .dataframe tbody tr th:only-of-type {\n",
       "        vertical-align: middle;\n",
       "    }\n",
       "\n",
       "    .dataframe tbody tr th {\n",
       "        vertical-align: top;\n",
       "    }\n",
       "\n",
       "    .dataframe thead th {\n",
       "        text-align: right;\n",
       "    }\n",
       "</style>\n",
       "<table border=\"1\" class=\"dataframe\">\n",
       "  <thead>\n",
       "    <tr style=\"text-align: right;\">\n",
       "      <th></th>\n",
       "      <th>yr</th>\n",
       "      <th>holiday</th>\n",
       "      <th>workingday</th>\n",
       "      <th>temp</th>\n",
       "      <th>hum</th>\n",
       "      <th>windspeed</th>\n",
       "      <th>season_Spring</th>\n",
       "      <th>season_Summer</th>\n",
       "      <th>season_Winter</th>\n",
       "      <th>mnth_Aug</th>\n",
       "      <th>...</th>\n",
       "      <th>mnth_Oct</th>\n",
       "      <th>mnth_Sept</th>\n",
       "      <th>weekday_Mon</th>\n",
       "      <th>weekday_Sat</th>\n",
       "      <th>weekday_Sun</th>\n",
       "      <th>weekday_Thu</th>\n",
       "      <th>weekday_Tue</th>\n",
       "      <th>weekday_Wed</th>\n",
       "      <th>weathersit_Light Snow+Light Rain+Thunderstorm</th>\n",
       "      <th>weathersit_Mist+Cloudy</th>\n",
       "    </tr>\n",
       "  </thead>\n",
       "  <tbody>\n",
       "    <tr>\n",
       "      <th>184</th>\n",
       "      <td>0</td>\n",
       "      <td>1</td>\n",
       "      <td>0</td>\n",
       "      <td>0.831783</td>\n",
       "      <td>0.657364</td>\n",
       "      <td>0.084219</td>\n",
       "      <td>0</td>\n",
       "      <td>0</td>\n",
       "      <td>0</td>\n",
       "      <td>0</td>\n",
       "      <td>...</td>\n",
       "      <td>0</td>\n",
       "      <td>0</td>\n",
       "      <td>0</td>\n",
       "      <td>0</td>\n",
       "      <td>0</td>\n",
       "      <td>0</td>\n",
       "      <td>0</td>\n",
       "      <td>1</td>\n",
       "      <td>0</td>\n",
       "      <td>1</td>\n",
       "    </tr>\n",
       "    <tr>\n",
       "      <th>535</th>\n",
       "      <td>1</td>\n",
       "      <td>0</td>\n",
       "      <td>1</td>\n",
       "      <td>0.901354</td>\n",
       "      <td>0.610133</td>\n",
       "      <td>0.153728</td>\n",
       "      <td>0</td>\n",
       "      <td>1</td>\n",
       "      <td>0</td>\n",
       "      <td>0</td>\n",
       "      <td>...</td>\n",
       "      <td>0</td>\n",
       "      <td>0</td>\n",
       "      <td>0</td>\n",
       "      <td>0</td>\n",
       "      <td>0</td>\n",
       "      <td>0</td>\n",
       "      <td>0</td>\n",
       "      <td>0</td>\n",
       "      <td>0</td>\n",
       "      <td>0</td>\n",
       "    </tr>\n",
       "    <tr>\n",
       "      <th>299</th>\n",
       "      <td>0</td>\n",
       "      <td>0</td>\n",
       "      <td>1</td>\n",
       "      <td>0.511964</td>\n",
       "      <td>0.837699</td>\n",
       "      <td>0.334206</td>\n",
       "      <td>0</td>\n",
       "      <td>0</td>\n",
       "      <td>1</td>\n",
       "      <td>0</td>\n",
       "      <td>...</td>\n",
       "      <td>1</td>\n",
       "      <td>0</td>\n",
       "      <td>0</td>\n",
       "      <td>1</td>\n",
       "      <td>0</td>\n",
       "      <td>0</td>\n",
       "      <td>0</td>\n",
       "      <td>0</td>\n",
       "      <td>0</td>\n",
       "      <td>1</td>\n",
       "    </tr>\n",
       "    <tr>\n",
       "      <th>221</th>\n",
       "      <td>0</td>\n",
       "      <td>0</td>\n",
       "      <td>1</td>\n",
       "      <td>0.881625</td>\n",
       "      <td>0.437098</td>\n",
       "      <td>0.339570</td>\n",
       "      <td>0</td>\n",
       "      <td>0</td>\n",
       "      <td>0</td>\n",
       "      <td>1</td>\n",
       "      <td>...</td>\n",
       "      <td>0</td>\n",
       "      <td>0</td>\n",
       "      <td>0</td>\n",
       "      <td>0</td>\n",
       "      <td>0</td>\n",
       "      <td>0</td>\n",
       "      <td>0</td>\n",
       "      <td>0</td>\n",
       "      <td>0</td>\n",
       "      <td>0</td>\n",
       "    </tr>\n",
       "    <tr>\n",
       "      <th>152</th>\n",
       "      <td>0</td>\n",
       "      <td>0</td>\n",
       "      <td>1</td>\n",
       "      <td>0.817246</td>\n",
       "      <td>0.314298</td>\n",
       "      <td>0.537414</td>\n",
       "      <td>0</td>\n",
       "      <td>1</td>\n",
       "      <td>0</td>\n",
       "      <td>0</td>\n",
       "      <td>...</td>\n",
       "      <td>0</td>\n",
       "      <td>0</td>\n",
       "      <td>0</td>\n",
       "      <td>1</td>\n",
       "      <td>0</td>\n",
       "      <td>0</td>\n",
       "      <td>0</td>\n",
       "      <td>0</td>\n",
       "      <td>0</td>\n",
       "      <td>0</td>\n",
       "    </tr>\n",
       "  </tbody>\n",
       "</table>\n",
       "<p>5 rows × 28 columns</p>\n",
       "</div>"
      ],
      "text/plain": [
       "     yr  holiday  workingday      temp       hum  windspeed  season_Spring  \\\n",
       "184   0        1           0  0.831783  0.657364   0.084219              0   \n",
       "535   1        0           1  0.901354  0.610133   0.153728              0   \n",
       "299   0        0           1  0.511964  0.837699   0.334206              0   \n",
       "221   0        0           1  0.881625  0.437098   0.339570              0   \n",
       "152   0        0           1  0.817246  0.314298   0.537414              0   \n",
       "\n",
       "     season_Summer  season_Winter  mnth_Aug  ...  mnth_Oct  mnth_Sept  \\\n",
       "184              0              0         0  ...         0          0   \n",
       "535              1              0         0  ...         0          0   \n",
       "299              0              1         0  ...         1          0   \n",
       "221              0              0         1  ...         0          0   \n",
       "152              1              0         0  ...         0          0   \n",
       "\n",
       "     weekday_Mon  weekday_Sat  weekday_Sun  weekday_Thu  weekday_Tue  \\\n",
       "184            0            0            0            0            0   \n",
       "535            0            0            0            0            0   \n",
       "299            0            1            0            0            0   \n",
       "221            0            0            0            0            0   \n",
       "152            0            1            0            0            0   \n",
       "\n",
       "     weekday_Wed  weathersit_Light Snow+Light Rain+Thunderstorm  \\\n",
       "184            1                                              0   \n",
       "535            0                                              0   \n",
       "299            0                                              0   \n",
       "221            0                                              0   \n",
       "152            0                                              0   \n",
       "\n",
       "     weathersit_Mist+Cloudy  \n",
       "184                       1  \n",
       "535                       0  \n",
       "299                       1  \n",
       "221                       0  \n",
       "152                       0  \n",
       "\n",
       "[5 rows x 28 columns]"
      ]
     },
     "execution_count": 102,
     "metadata": {},
     "output_type": "execute_result"
    }
   ],
   "source": [
    "X_test.head()"
   ]
  },
  {
   "cell_type": "code",
   "execution_count": 103,
   "metadata": {},
   "outputs": [
    {
     "data": {
      "text/plain": [
       "Index(['yr', 'holiday', 'temp', 'windspeed', 'season_Spring', 'season_Summer',\n",
       "       'season_Winter', 'mnth_Jul', 'mnth_Sept',\n",
       "       'weathersit_Light Snow+Light Rain+Thunderstorm',\n",
       "       'weathersit_Mist+Cloudy'],\n",
       "      dtype='object')"
      ]
     },
     "execution_count": 103,
     "metadata": {},
     "output_type": "execute_result"
    }
   ],
   "source": [
    "X_train_model5.columns"
   ]
  },
  {
   "cell_type": "code",
   "execution_count": 104,
   "metadata": {},
   "outputs": [],
   "source": [
    "X_test_new = X_test[X_train_model5.columns]"
   ]
  },
  {
   "cell_type": "code",
   "execution_count": 105,
   "metadata": {},
   "outputs": [],
   "source": [
    "# Adding a constant variable \n",
    "\n",
    "X_test_new = sm.add_constant(X_test_new)"
   ]
  },
  {
   "cell_type": "code",
   "execution_count": 106,
   "metadata": {},
   "outputs": [],
   "source": [
    "# Making predictions\n",
    "y_pred = lm.predict(X_test_new)"
   ]
  },
  {
   "cell_type": "markdown",
   "metadata": {},
   "source": [
    "## Model Evaluation"
   ]
  },
  {
   "cell_type": "code",
   "execution_count": 107,
   "metadata": {},
   "outputs": [
    {
     "data": {
      "text/plain": [
       "Text(0, 0.5, 'y_pred')"
      ]
     },
     "execution_count": 107,
     "metadata": {},
     "output_type": "execute_result"
    },
    {
     "data": {
      "image/png": "[encoded data removed]",
      "text/plain": [
       "<Figure size 432x288 with 1 Axes>"
      ]
     },
     "metadata": {
      "needs_background": "light"
     },
     "output_type": "display_data"
    }
   ],
   "source": [
    "# Plotting y_test and y_pred to understand the spread.\n",
    "fig = plt.figure()\n",
    "plt.scatter(y_test,y_pred)\n",
    "fig.suptitle('y_test vs y_pred', fontsize=20)              # Plot heading \n",
    "plt.xlabel('y_test', fontsize=18)                          # X-label\n",
    "plt.ylabel('y_pred', fontsize=16) "
   ]
  },
  {
   "cell_type": "markdown",
   "metadata": {},
   "source": [
    "Evaluation of test by comparison of y_pred and y_test"
   ]
  },
  {
   "cell_type": "code",
   "execution_count": 108,
   "metadata": {},
   "outputs": [
    {
     "data": {
      "text/plain": [
       "0.8049418440982381"
      ]
     },
     "execution_count": 108,
     "metadata": {},
     "output_type": "execute_result"
    }
   ],
   "source": [
    "from sklearn.metrics import r2_score\n",
    "r2_score(y_test, y_pred)"
   ]
  },
  {
   "cell_type": "markdown",
   "metadata": {},
   "source": [
    "Adjusted R-squared value for TEST"
   ]
  },
  {
   "cell_type": "code",
   "execution_count": 109,
   "metadata": {},
   "outputs": [
    {
     "data": {
      "text/plain": [
       "(219, 12)"
      ]
     },
     "execution_count": 109,
     "metadata": {},
     "output_type": "execute_result"
    }
   ],
   "source": [
    "X_test_new.shape"
   ]
  },
  {
   "cell_type": "code",
   "execution_count": 110,
   "metadata": {},
   "outputs": [
    {
     "data": {
      "text/plain": [
       "0.7935792330748345"
      ]
     },
     "execution_count": 110,
     "metadata": {},
     "output_type": "execute_result"
    }
   ],
   "source": [
    "r2 = r2_score(y_test, y_pred)\n",
    "\n",
    "# n is number of rows in X\n",
    "\n",
    "n = X_test_new.shape[0]\n",
    "\n",
    "# Number of features (predictors, p) is the shape along axis 1\n",
    "p = X_test_new.shape[1]\n",
    "\n",
    "# We find the Adjusted R-squared using the formula\n",
    "adj_r2 = 1-(1-r2)*(n-1)/(n-p-1)\n",
    "adj_r2"
   ]
  },
  {
   "cell_type": "code",
   "execution_count": 111,
   "metadata": {},
   "outputs": [
    {
     "name": "stdout",
     "output_type": "stream",
     "text": [
      "0.0962519856982605\n"
     ]
    }
   ],
   "source": [
    "#Returns the mean squared error; we'll take a square root\n",
    "from sklearn.metrics import mean_squared_error\n",
    "print(np.sqrt(mean_squared_error(y_test, y_pred)))\n",
    "#from sklearn.metrics import mean_squared_error\n",
    "from sklearn.metrics import r2_score"
   ]
  },
  {
   "cell_type": "code",
   "execution_count": 112,
   "metadata": {},
   "outputs": [
    {
     "name": "stdout",
     "output_type": "stream",
     "text": [
      "                            OLS Regression Results                            \n",
      "==============================================================================\n",
      "Dep. Variable:                    cnt   R-squared:                       0.836\n",
      "Model:                            OLS   Adj. R-squared:                  0.832\n",
      "Method:                 Least Squares   F-statistic:                     230.4\n",
      "Date:                Mon, 01 Feb 2021   Prob (F-statistic):          2.40e-187\n",
      "Time:                        13:33:09   Log-Likelihood:                 499.17\n",
      "No. Observations:                 510   AIC:                            -974.3\n",
      "Df Residuals:                     498   BIC:                            -923.5\n",
      "Df Model:                          11                                         \n",
      "Covariance Type:            nonrobust                                         \n",
      "=================================================================================================================\n",
      "                                                    coef    std err          t      P>|t|      [0.025      0.975]\n",
      "-----------------------------------------------------------------------------------------------------------------\n",
      "const                                             0.1996      0.030      6.758      0.000       0.142       0.258\n",
      "yr                                                0.2335      0.008     28.361      0.000       0.217       0.250\n",
      "holiday                                          -0.0980      0.026     -3.761      0.000      -0.149      -0.047\n",
      "temp                                              0.4915      0.033     14.798      0.000       0.426       0.557\n",
      "windspeed                                        -0.1480      0.025     -5.893      0.000      -0.197      -0.099\n",
      "season_Spring                                    -0.0669      0.021     -3.167      0.002      -0.108      -0.025\n",
      "season_Summer                                     0.0453      0.015      2.971      0.003       0.015       0.075\n",
      "season_Winter                                     0.0831      0.017      4.818      0.000       0.049       0.117\n",
      "mnth_Jul                                         -0.0524      0.019     -2.811      0.005      -0.089      -0.016\n",
      "mnth_Sept                                         0.0767      0.017      4.511      0.000       0.043       0.110\n",
      "weathersit_Light Snow+Light Rain+Thunderstorm    -0.2852      0.025    -11.536      0.000      -0.334      -0.237\n",
      "weathersit_Mist+Cloudy                           -0.0816      0.009     -9.301      0.000      -0.099      -0.064\n",
      "==============================================================================\n",
      "Omnibus:                       59.298   Durbin-Watson:                   2.041\n",
      "Prob(Omnibus):                  0.000   Jarque-Bera (JB):              135.189\n",
      "Skew:                          -0.628   Prob(JB):                     4.41e-30\n",
      "Kurtosis:                       5.187   Cond. No.                         17.3\n",
      "==============================================================================\n",
      "\n",
      "Warnings:\n",
      "[1] Standard Errors assume that the covariance matrix of the errors is correctly specified.\n"
     ]
    }
   ],
   "source": [
    "\n",
    "print(lm.summary())"
   ]
  },
  {
   "cell_type": "markdown",
   "metadata": {},
   "source": [
    "P-values for all the variables looks fine now \n",
    "\n",
    "Prob (F-statistics) looks fine approx equals to zero\n",
    "\n",
    "R-squared is 0.836 which is showing ~ 84% variance of the data\n",
    "\n",
    "Adj R-squared for final model is 0.832 "
   ]
  },
  {
   "cell_type": "markdown",
   "metadata": {},
   "source": [
    "## Result \n",
    "\n",
    "### Train R-Squared = 83.6\n",
    "### Train Adj. R-Squared = 83.2\n",
    "### Test R-Squared = 80.49\n",
    "### Test Adj. R-Squared = 79.35"
   ]
  },
  {
   "cell_type": "markdown",
   "metadata": {},
   "source": [
    "### Outcomes\n",
    "\n",
    "##### The equation for best fitted line is\n",
    "\n",
    "##### cnt = 0.1996 + 0.2335 yr - 0.0980 holiday +  0.4915 temp - 0.1480 windspeed - 0.0669 season_Spring + 0.0453 season_Summer +  0.0831 season_Winter - 0.0524 mnth_Jul + 0.0767 mnth_Sept  - 0.2852 weathersit_Light Snow+Light Rain+Thunderstorm -  0.0816 weathersit_Mist+Cloudy\n",
    "        \n",
    "\n",
    "\n"
   ]
  },
  {
   "cell_type": "markdown",
   "metadata": {},
   "source": [
    "# Conclusion\n",
    "\n",
    "\n",
    "## There is a sufficient evidence to reject the Null hypothesis in favor of alternate hypothesis. At least one of the beta coefficient is not equal to zero. Thus atleast one independent variable is linearly related to the dependent variable.\n",
    "\n",
    "## So this linear regression model is valid.\n",
    "\n",
    "## Yes !! This is a pretty good model"
   ]
  },
  {
   "cell_type": "markdown",
   "metadata": {},
   "source": [
    "By analyzing the above model we can conclude that\n",
    "\n",
    "1. The demand for bikes was more in 2019 compared to 2018 but facing dips due to Covid-19 Pandemic.\n",
    "2. The company should focus on Summer and winter to expand their business.\n",
    "3. With the temperature, the boombikes booking can go up to 0.4915 units.\n",
    "4. There is a negative correlation for Mist+Cloudy and Light Snow+Light Rain+Thunderstorm conditions."
   ]
  }
 ],
 "metadata": {
  "kernelspec": {
   "display_name": "Python 3",
   "language": "python",
   "name": "python3"
  },
  "language_info": {
   "codemirror_mode": {
    "name": "ipython",
    "version": 3
   },
   "file_extension": ".py",
   "mimetype": "text/x-python",
   "name": "python",
   "nbconvert_exporter": "python",
   "pygments_lexer": "ipython3",
   "version": "3.8.5"
  }
 },
 "nbformat": 4,
 "nbformat_minor": 4
}
